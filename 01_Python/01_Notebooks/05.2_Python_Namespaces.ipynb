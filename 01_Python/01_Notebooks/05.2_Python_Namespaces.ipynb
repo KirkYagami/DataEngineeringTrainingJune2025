{
 "cells": [
  {
   "cell_type": "code",
   "execution_count": 1,
   "id": "b46f44b3",
   "metadata": {},
   "outputs": [
    {
     "name": "stdout",
     "output_type": "stream",
     "text": [
      "Inner function namespace: {'inner_var': 30}\n",
      "Outer function namespace: {'outer_var': 20, 'inner_function': <function outer_function.<locals>.inner_function at 0x0000023A976F1300>}\n",
      "Global namespace: {'__name__': '__main__', '__doc__': '\\nNote: all executions are function-scoped as we do not assume the code below executes in an isolated kernel environment.\\n', '__package__': None, '__loader__': None, '__spec__': None, '__builtin__': <module 'builtins' (built-in)>, '__builtins__': <module 'builtins' (built-in)>, '_ih': ['', '# Global Namespace\\nglobal_var = 10\\n\\ndef outer_function():\\n    # Enclosing Namespace\\n    outer_var = 20\\n\\n    def inner_function():\\n        # Local Namespace\\n        inner_var = 30\\n        print(\"Inner function namespace:\", locals())\\n\\n    inner_function()\\n    print(\"Outer function namespace:\", locals())\\n\\nouter_function()\\nprint(\"Global namespace:\", globals())'], '_oh': {}, '_dh': [WindowsPath('c:/development/DataEngineeringTrainingJune2025/01_Python/01_Notebooks')], 'In': ['', '# Global Namespace\\nglobal_var = 10\\n\\ndef outer_function():\\n    # Enclosing Namespace\\n    outer_var = 20\\n\\n    def inner_function():\\n        # Local Namespace\\n        inner_var = 30\\n        print(\"Inner function namespace:\", locals())\\n\\n    inner_function()\\n    print(\"Outer function namespace:\", locals())\\n\\nouter_function()\\nprint(\"Global namespace:\", globals())'], 'Out': {}, 'get_ipython': <bound method InteractiveShell.get_ipython of <ipykernel.zmqshell.ZMQInteractiveShell object at 0x0000023A97548150>>, 'exit': <IPython.core.autocall.ZMQExitAutocall object at 0x0000023A975510D0>, 'quit': <IPython.core.autocall.ZMQExitAutocall object at 0x0000023A975510D0>, 'open': <function open at 0x0000023A9562C360>, '_': '', '__': '', '___': '', '__vsc_ipynb_file__': 'c:\\\\development\\\\DataEngineeringTrainingJune2025\\\\01_Python\\\\01_Notebooks\\\\05.2_Python_Namespaces.ipynb', '__DW_SCOPE__': {'output_cache': {}, 'output-a5a7b03d-fee3-4b40-9bc8-3635d557e6f7': {'enable_for_types': <function __DW_OUTPUT_FORMATTER__.<locals>.enable_formatter_for_types at 0x0000023A976F0F40>, 'disable': <function __DW_OUTPUT_FORMATTER__.<locals>.disable_formatter at 0x0000023A976F0FE0>}}, '_i': '', '_ii': '', '_iii': '', '_i1': '# Global Namespace\\nglobal_var = 10\\n\\ndef outer_function():\\n    # Enclosing Namespace\\n    outer_var = 20\\n    \\n    def inner_function():\\n        # Local Namespace\\n        inner_var = 30\\n        print(\"Inner function namespace:\", locals())\\n    \\n    inner_function()\\n    print(\"Outer function namespace:\", locals())\\n\\nouter_function()\\nprint(\"Global namespace:\", globals())', 'global_var': 10, 'outer_function': <function outer_function at 0x0000023A9769F4C0>}\n"
     ]
    }
   ],
   "source": [
    "# Global Namespace\n",
    "global_var = 10\n",
    "\n",
    "def outer_function():\n",
    "    # Enclosing Namespace\n",
    "    outer_var = 20\n",
    "    \n",
    "    def inner_function():\n",
    "        # Local Namespace\n",
    "        inner_var = 30\n",
    "        print(\"Inner function namespace:\", locals())\n",
    "    \n",
    "    inner_function()\n",
    "    print(\"Outer function namespace:\", locals())\n",
    "\n",
    "outer_function()\n",
    "print(\"Global namespace:\", globals())\n"
   ]
  },
  {
   "cell_type": "code",
   "execution_count": null,
   "id": "244a18d9",
   "metadata": {},
   "outputs": [],
   "source": []
  }
 ],
 "metadata": {
  "kernelspec": {
   "display_name": "Python 3",
   "language": "python",
   "name": "python3"
  },
  "language_info": {
   "codemirror_mode": {
    "name": "ipython",
    "version": 3
   },
   "file_extension": ".py",
   "mimetype": "text/x-python",
   "name": "python",
   "nbconvert_exporter": "python",
   "pygments_lexer": "ipython3",
   "version": "3.11.11"
  }
 },
 "nbformat": 4,
 "nbformat_minor": 5
}
