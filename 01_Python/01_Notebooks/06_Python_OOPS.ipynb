{
 "cells": [
  {
   "cell_type": "markdown",
   "id": "44a950c8",
   "metadata": {},
   "source": [
    "##  Classes and Objects\n",
    "Object-Oriented Programming (OOP) is a programming paradigm that uses \"objects\" to design applications and computer programs. OOP allows for modeling real-world scenarios using classes and objects. This lesson covers the basics of creating classes and objects, including instance variables and methods."
   ]
  },
  {
   "cell_type": "markdown",
   "id": "3d4fa84e",
   "metadata": {},
   "source": [
    "### Custom Classes\n",
    "- Python is an object oriented programming language.\n",
    "- Almost everything in Python is an object, with its properties and methods.\n",
    "- A Class is like an object constructor, or a \"blueprint\" for creating objects."
   ]
  },
  {
   "cell_type": "code",
   "execution_count": 1,
   "id": "8a1046f3",
   "metadata": {},
   "outputs": [],
   "source": [
    "class Person:\n",
    "    pass"
   ]
  },
  {
   "cell_type": "markdown",
   "id": "586e28de",
   "metadata": {},
   "source": [
    "To create a custom class we use the `class` keyword, and we can initialize class attributes in the special method `__init__`."
   ]
  },
  {
   "cell_type": "code",
   "execution_count": 27,
   "id": "89bba7ab",
   "metadata": {},
   "outputs": [],
   "source": [
    "class Rectangle:\n",
    "    def __init__(self, width, height):\n",
    "        self.width = width\n",
    "        self.height = height \n",
    "\n",
    "\n",
    "class Person:\n",
    "    def __init__(self, name, age):\n",
    "        self.myname = name\n",
    "        self.myage = age\n",
    "    \n",
    "    def print_details(self):\n",
    "        return f\"Name is '{self.myname}' and age is '{self.myage}'.\"\n",
    "\n"
   ]
  },
  {
   "cell_type": "markdown",
   "id": "86140c0e",
   "metadata": {},
   "source": [
    "We create **instances** of the `Rectangle` class by calling it with arguments that are passed to the `__init__` method as the second and third arguments. The first argument (`self`) is automatically filled in by Python and contains the object being created.\n",
    "\n",
    "Note that using `self` is just a convention (although a good one, and you should use it to make your code more understandable by others), you could really call it whatever (valid) name you choose.\n",
    "\n",
    "But just because you can, does not mean you should!"
   ]
  },
  {
   "cell_type": "code",
   "execution_count": null,
   "id": "9761452c",
   "metadata": {},
   "outputs": [],
   "source": [
    "r1 = Rectangle(10, 20)"
   ]
  },
  {
   "cell_type": "code",
   "execution_count": null,
   "id": "fe1bfd21",
   "metadata": {},
   "outputs": [
    {
     "data": {
      "text/plain": [
       "24"
      ]
     },
     "execution_count": 17,
     "metadata": {},
     "output_type": "execute_result"
    }
   ],
   "source": [
    "\n",
    "p1.age\n",
    "\n"
   ]
  },
  {
   "cell_type": "code",
   "execution_count": 28,
   "id": "9d15bcb6",
   "metadata": {},
   "outputs": [
    {
     "name": "stdout",
     "output_type": "stream",
     "text": [
      "Name is 'Nik' and age is '24'.\n",
      "Name is 'someone' and age is '22'.\n",
      "Name is 'P3' and age is '99'.\n"
     ]
    }
   ],
   "source": [
    "p1 = Person('Nik', 24)\n",
    "p2 = Person(\"someone\", 22)\n",
    "p3 = Person(\"P3\", 99)\n",
    "\n",
    "\n",
    "print(p1.print_details())\n",
    "print(p2.print_details())\n",
    "print(p3.print_details())\n"
   ]
  },
  {
   "cell_type": "code",
   "execution_count": null,
   "id": "c798331d",
   "metadata": {},
   "outputs": [],
   "source": []
  },
  {
   "cell_type": "code",
   "execution_count": 19,
   "id": "41160651",
   "metadata": {},
   "outputs": [
    {
     "data": {
      "text/plain": [
       "\"Name is 'Nik' and age is '24'.\""
      ]
     },
     "execution_count": 19,
     "metadata": {},
     "output_type": "execute_result"
    }
   ],
   "source": [
    "p1.print_details()"
   ]
  },
  {
   "cell_type": "code",
   "execution_count": null,
   "id": "d04ddf22",
   "metadata": {},
   "outputs": [
    {
     "name": "stdout",
     "output_type": "stream",
     "text": [
      "<__main__.Rectangle object at 0x000001EADE0DC850>\n",
      "<class '__main__.Rectangle'>\n"
     ]
    }
   ],
   "source": [
    "print(r1)\n",
    "print(type(r1))\n",
    "\n",
    "# Rectangle(10,20)"
   ]
  },
  {
   "cell_type": "code",
   "execution_count": 7,
   "id": "bc0af12d",
   "metadata": {},
   "outputs": [
    {
     "name": "stdout",
     "output_type": "stream",
     "text": [
      "[1, 2, 3, 4, 5, 6, 7, 8, 9, 10]\n"
     ]
    }
   ],
   "source": [
    "l1 = list(range(1,11))\n",
    "\n",
    "print(l1)"
   ]
  },
  {
   "cell_type": "markdown",
   "id": "543628b5",
   "metadata": {},
   "source": [
    "`width` and `height` are attributes of the `Rectangle` class. But since they are just values (not callables), we call them **properties**.\n",
    "\n",
    "Attributes that are callables are called **methods**."
   ]
  },
  {
   "cell_type": "markdown",
   "id": "95707b8e",
   "metadata": {},
   "source": [
    "You'll note that we were able to retrieve the `width` and `height` attributes (properties) using a dot notation, where we specify the object we are interested in, then a dot, then the attribute we are interested in."
   ]
  },
  {
   "cell_type": "markdown",
   "id": "6a49008c",
   "metadata": {},
   "source": [
    "We can add callable attributes to our class (methods), that will also be referenced using the dot notation.\n",
    "\n",
    "Again, we will create instance methods, which means the method will require the first argument to be the object being used when the method is called."
   ]
  },
  {
   "cell_type": "code",
   "execution_count": null,
   "id": "c475f2b8",
   "metadata": {},
   "outputs": [],
   "source": [
    "class Rectangle:\n",
    "    def __init__(self, width = 0, height = 0):\n",
    "        self.width = width\n",
    "        self.height = height\n",
    "        \n",
    "    def area(self):\n",
    "        return (self.width * self.height)\n",
    "    \n",
    "    def perimeter(the_referenced_object):\n",
    "        return 2 * (the_referenced_object.width + the_referenced_object.height)\n",
    "\n",
    "    def details(self):\n",
    "        return f\"...\"\n",
    "    "
   ]
  },
  {
   "cell_type": "code",
   "execution_count": 46,
   "id": "d809602b",
   "metadata": {},
   "outputs": [],
   "source": [
    "r1 = Rectangle()"
   ]
  },
  {
   "cell_type": "code",
   "execution_count": 47,
   "id": "8818b963",
   "metadata": {},
   "outputs": [
    {
     "data": {
      "text/plain": [
       "0"
      ]
     },
     "execution_count": 47,
     "metadata": {},
     "output_type": "execute_result"
    }
   ],
   "source": [
    "r1.height"
   ]
  },
  {
   "cell_type": "code",
   "execution_count": null,
   "id": "e92fab81",
   "metadata": {},
   "outputs": [],
   "source": [
    "class LLM:\n",
    "    pass\n"
   ]
  },
  {
   "cell_type": "code",
   "execution_count": 48,
   "id": "aa10e6ea",
   "metadata": {},
   "outputs": [
    {
     "name": "stdout",
     "output_type": "stream",
     "text": [
      "<__main__.Rectangle object at 0x000001EADE18DE50>\n"
     ]
    }
   ],
   "source": [
    "print(r1)"
   ]
  },
  {
   "cell_type": "markdown",
   "id": "54c6cc29",
   "metadata": {},
   "source": [
    "Python defines a bunch of **special** methods that we can use to give our classes functionality that resembles functionality of built-in and standard library objects.\n",
    "\n",
    "Many people refer to them as *magic* methods, but there's nothing magical about them - unlike magic, they are well documented and understood!!\n",
    "\n",
    "These **special** methods provide us an easy way to overload operators in Python."
   ]
  },
  {
   "cell_type": "markdown",
   "id": "42d0ad9d",
   "metadata": {},
   "source": [
    "For example, we can obtain the string representation of an integer using the built-in `str` function:"
   ]
  },
  {
   "cell_type": "code",
   "execution_count": 49,
   "id": "7031108e",
   "metadata": {},
   "outputs": [
    {
     "data": {
      "text/plain": [
       "'88'"
      ]
     },
     "execution_count": 49,
     "metadata": {},
     "output_type": "execute_result"
    }
   ],
   "source": [
    "str('88')"
   ]
  },
  {
   "cell_type": "code",
   "execution_count": 50,
   "metadata": {},
   "outputs": [
    {
     "data": {
      "text/plain": [
       "'<__main__.Rectangle object at 0x000001EADE18DE50>'"
      ]
     },
     "execution_count": 50,
     "metadata": {},
     "output_type": "execute_result"
    }
   ],
   "source": [
    "str(r1)"
   ]
  },
  {
   "cell_type": "markdown",
   "id": "9e5cd3d2",
   "metadata": {},
   "source": [
    "Not exactly what we might have expected. On the other hand, how is Python supposed to know how to display our rectangle as a string?\n",
    "\n",
    "We could write a method in the class such as:"
   ]
  },
  {
   "cell_type": "code",
   "execution_count": 51,
   "metadata": {},
   "outputs": [],
   "source": [
    "class Rectangle:\n",
    "    def __init__(self, width, height):\n",
    "        self.width = width\n",
    "        self.height = height\n",
    "        \n",
    "    def area(self):\n",
    "        return self.width * self.height\n",
    "    \n",
    "    def perimeter(self):\n",
    "        return 2 * (self.width + self.height)\n",
    "    \n",
    "    def to_str(self):\n",
    "        return f'Rectangle (width={self.width}, height={self.height})'\n"
   ]
  },
  {
   "cell_type": "code",
   "execution_count": 52,
   "metadata": {},
   "outputs": [
    {
     "data": {
      "text/plain": [
       "'Rectangle (width=10, height=20)'"
      ]
     },
     "execution_count": 52,
     "metadata": {},
     "output_type": "execute_result"
    }
   ],
   "source": [
    "r1 = Rectangle(10,20)\n",
    "r1.to_str()"
   ]
  },
  {
   "cell_type": "code",
   "execution_count": 53,
   "metadata": {},
   "outputs": [
    {
     "data": {
      "text/plain": [
       "'<__main__.Rectangle object at 0x000001EADE1F4390>'"
      ]
     },
     "execution_count": 53,
     "metadata": {},
     "output_type": "execute_result"
    }
   ],
   "source": [
    "str(r1)"
   ]
  },
  {
   "cell_type": "code",
   "execution_count": 54,
   "metadata": {},
   "outputs": [
    {
     "name": "stdout",
     "output_type": "stream",
     "text": [
      "<__main__.Rectangle object at 0x000001EADE1F4390>\n"
     ]
    }
   ],
   "source": [
    "print(r1)"
   ]
  },
  {
   "cell_type": "markdown",
   "id": "e77737e8",
   "metadata": {},
   "source": [
    "if we follow the above approach (to_str()), anyone who writes a class in Python will need to provide some method to do this, and probably come up with their own name for the method too, maybe `to_str`, `make_string`, `stringify`, and who knows what else."
   ]
  },
  {
   "cell_type": "markdown",
   "id": "e2de1251",
   "metadata": {},
   "source": [
    "Fortunately, this is where these special methods come in. When we call `str(r1)`, Python will first look to see if our class (`Rectangle`) has a special method called `__str__`.\n",
    "\n",
    "If the `__str__` method is present, then Python will call it and return that value.\n",
    "\n",
    "There's actually another one called `__repr__` which is related, but we'll just focus on `__str__` for now."
   ]
  },
  {
   "cell_type": "code",
   "execution_count": 73,
   "id": "556b0940",
   "metadata": {},
   "outputs": [],
   "source": [
    "class Rectangle:\n",
    "    def __init__(self, width, height):\n",
    "        self.width = width\n",
    "        self.height = height\n",
    "        \n",
    "    def area(self):\n",
    "        return self.width * self.height\n",
    "    \n",
    "    def perimeter(self):\n",
    "        return 2 * (self.width + self.height)\n",
    "    \n",
    "    def __str__(self):\n",
    "        return f'Rectangle (width={self.width}, height={self.height})'\n",
    "\n",
    "    def __repr__(self):\n",
    "        return f'Rectangle (width={self.width}, height={self.height})'"
   ]
  },
  {
   "cell_type": "code",
   "execution_count": 68,
   "id": "026328b6",
   "metadata": {},
   "outputs": [
    {
     "data": {
      "text/plain": [
       "'10'"
      ]
     },
     "execution_count": 68,
     "metadata": {},
     "output_type": "execute_result"
    }
   ],
   "source": [
    "str(10)"
   ]
  },
  {
   "cell_type": "code",
   "execution_count": 74,
   "metadata": {},
   "outputs": [
    {
     "name": "stdout",
     "output_type": "stream",
     "text": [
      "Rectangle (width=10, height=20)\n",
      "Rectangle (width=10, height=20)\n"
     ]
    }
   ],
   "source": [
    "r1 = Rectangle(10,20)\n",
    "\n",
    "print(r1)\n",
    "print(str(r1))"
   ]
  },
  {
   "cell_type": "code",
   "execution_count": 58,
   "metadata": {},
   "outputs": [
    {
     "data": {
      "text/plain": [
       "'Rectangle (width=10, height=20)'"
      ]
     },
     "execution_count": 58,
     "metadata": {},
     "output_type": "execute_result"
    }
   ],
   "source": [
    "str(r1)"
   ]
  },
  {
   "cell_type": "code",
   "execution_count": 75,
   "metadata": {},
   "outputs": [
    {
     "data": {
      "text/plain": [
       "Rectangle (width=10, height=20)"
      ]
     },
     "execution_count": 75,
     "metadata": {},
     "output_type": "execute_result"
    }
   ],
   "source": [
    "r1"
   ]
  },
  {
   "cell_type": "code",
   "execution_count": 76,
   "metadata": {},
   "outputs": [
    {
     "data": {
      "text/plain": [
       "Rectangle (width=10, height=20)"
      ]
     },
     "execution_count": 76,
     "metadata": {},
     "output_type": "execute_result"
    }
   ],
   "source": [
    "r1"
   ]
  },
  {
   "cell_type": "markdown",
   "id": "e93da104",
   "metadata": {},
   "source": [
    "When working in the interactive console or Jupyter notebook environment, Python is not converting `r1` to a string, but instead looking for a string *representation* of the object. It is looking for the `__repr__` method."
   ]
  },
  {
   "cell_type": "markdown",
   "id": "0cf1a863",
   "metadata": {},
   "source": [
    "---"
   ]
  },
  {
   "cell_type": "code",
   "execution_count": 77,
   "metadata": {},
   "outputs": [],
   "source": [
    "r1 = Rectangle(10,20)\n",
    "r2 = Rectangle(10,20)"
   ]
  },
  {
   "cell_type": "code",
   "execution_count": 78,
   "metadata": {},
   "outputs": [
    {
     "name": "stdout",
     "output_type": "stream",
     "text": [
      "Rectangle (width=10, height=20)\n",
      "Rectangle (width=10, height=20)\n"
     ]
    }
   ],
   "source": [
    "print(r1)\n",
    "print(r2)\n",
    "\n"
   ]
  },
  {
   "cell_type": "code",
   "execution_count": 79,
   "metadata": {},
   "outputs": [
    {
     "data": {
      "text/plain": [
       "False"
      ]
     },
     "execution_count": 79,
     "metadata": {},
     "output_type": "execute_result"
    }
   ],
   "source": [
    "r1==r2"
   ]
  },
  {
   "cell_type": "code",
   "execution_count": 86,
   "id": "d5470357",
   "metadata": {},
   "outputs": [
    {
     "data": {
      "text/plain": [
       "False"
      ]
     },
     "execution_count": 86,
     "metadata": {},
     "output_type": "execute_result"
    }
   ],
   "source": [
    "r1==1"
   ]
  },
  {
   "cell_type": "code",
   "execution_count": 91,
   "id": "bf624358",
   "metadata": {},
   "outputs": [
    {
     "name": "stdout",
     "output_type": "stream",
     "text": [
      "yes\n"
     ]
    }
   ],
   "source": [
    "if isinstance(1.2, float):\n",
    "    print('yes')\n",
    "else:\n",
    "    print('No')"
   ]
  },
  {
   "cell_type": "code",
   "execution_count": 93,
   "id": "d8678316",
   "metadata": {},
   "outputs": [
    {
     "data": {
      "text/plain": [
       "False"
      ]
     },
     "execution_count": 93,
     "metadata": {},
     "output_type": "execute_result"
    }
   ],
   "source": [
    "(10, 20) == (10,21)"
   ]
  },
  {
   "cell_type": "code",
   "execution_count": 96,
   "id": "ac2d0f6d",
   "metadata": {},
   "outputs": [
    {
     "data": {
      "text/plain": [
       "True"
      ]
     },
     "execution_count": 96,
     "metadata": {},
     "output_type": "execute_result"
    }
   ],
   "source": [
    "isinstance((1,2), tuple)"
   ]
  },
  {
   "cell_type": "code",
   "execution_count": 97,
   "id": "3658b20b",
   "metadata": {},
   "outputs": [],
   "source": [
    "class Rectangle:\n",
    "    def __init__(self, width, height):\n",
    "        self.width = width\n",
    "        self.height = height\n",
    "        \n",
    "    def area(self):\n",
    "        return self.width * self.height\n",
    "    \n",
    "    def perimeter(self):\n",
    "        return 2 * (self.width + self.height)\n",
    "\n",
    "    def __str__(self):\n",
    "        return 'Rectangle (width={0}, height={1})'.format(self.width, self.height)\n",
    "    \n",
    "    def __repr__(self):\n",
    "        return 'Rectangle({0}, {1})'.format(self.width, self.height)\n",
    "    \n",
    "    def __eq__(self, other):\n",
    "        print('self={0}, other={1}'.format(self, other))\n",
    "        if isinstance(other, Rectangle):\n",
    "            return (self.width, self.height) == (other.width, other.height)\n",
    "        else:\n",
    "            return False"
   ]
  },
  {
   "cell_type": "code",
   "execution_count": 98,
   "metadata": {},
   "outputs": [],
   "source": [
    "r1 = Rectangle(10,20)\n",
    "r2 = Rectangle(10,20)"
   ]
  },
  {
   "cell_type": "code",
   "execution_count": 99,
   "metadata": {},
   "outputs": [
    {
     "name": "stdout",
     "output_type": "stream",
     "text": [
      "self=Rectangle (width=10, height=20), other=Rectangle (width=10, height=20)\n"
     ]
    },
    {
     "data": {
      "text/plain": [
       "True"
      ]
     },
     "execution_count": 99,
     "metadata": {},
     "output_type": "execute_result"
    }
   ],
   "source": [
    "r1==r2"
   ]
  },
  {
   "cell_type": "markdown",
   "id": "44f2c1da",
   "metadata": {},
   "source": [
    "__lt__, __gt__, __le__, etc.."
   ]
  },
  {
   "cell_type": "code",
   "execution_count": null,
   "id": "b134da46",
   "metadata": {},
   "outputs": [],
   "source": [
    "er.nikhilsharma7@gmail.com"
   ]
  },
  {
   "cell_type": "code",
   "execution_count": 40,
   "id": "2616f7a6",
   "metadata": {},
   "outputs": [
    {
     "data": {
      "text/plain": [
       "60"
      ]
     },
     "execution_count": 40,
     "metadata": {},
     "output_type": "execute_result"
    }
   ],
   "source": [
    "r1 = Rectangle(10, 20)\n",
    "r1.perimeter()"
   ]
  },
  {
   "cell_type": "markdown",
   "id": "d57436c8",
   "metadata": {},
   "source": [
    "---"
   ]
  },
  {
   "cell_type": "code",
   "execution_count": 102,
   "id": "1477aabc",
   "metadata": {},
   "outputs": [
    {
     "name": "stdout",
     "output_type": "stream",
     "text": [
      "(50, 'red')\n"
     ]
    }
   ],
   "source": [
    "class Rectangle:\n",
    "    def __init__(self, width, height):\n",
    "        self.width = width\n",
    "        self.height = height\n",
    "        \n",
    "    def area(self, shaded_color):\n",
    "        return ((self.width * self.height), shaded_color)\n",
    "\n",
    "r1 = Rectangle(5, 10)\n",
    "print(r1.area('red'))"
   ]
  },
  {
   "cell_type": "markdown",
   "id": "d49dc890",
   "metadata": {},
   "source": [
    "## Scenarios where you'd pass variables directly to method calls rather than storing them as instance attributes:"
   ]
  },
  {
   "cell_type": "code",
   "execution_count": null,
   "id": "468f8ed5",
   "metadata": {},
   "outputs": [],
   "source": [
    "## 1.Temporary Operations/Calculations\n",
    "\n",
    "class Calculator:\n",
    "    def __init__(self, base_value):\n",
    "        self.base_value = base_value\n",
    "    \n",
    "    def add(self, number):  # 'number' is temporary, not stored\n",
    "        return self.base_value + number\n",
    "\n",
    "calc = Calculator(10)\n",
    "result = calc.add(5)  # Pass 5 directly - we don't need to store it"
   ]
  },
  {
   "cell_type": "code",
   "execution_count": 104,
   "id": "e58d2a16",
   "metadata": {},
   "outputs": [
    {
     "data": {
      "text/plain": [
       "15"
      ]
     },
     "execution_count": 104,
     "metadata": {},
     "output_type": "execute_result"
    }
   ],
   "source": [
    "result"
   ]
  },
  {
   "cell_type": "code",
   "execution_count": null,
   "id": "d7661e16",
   "metadata": {},
   "outputs": [],
   "source": [
    "# User Input/Interactive Parameters\n",
    "\n",
    "class BankAccount:\n",
    "    def __init__(self, balance):\n",
    "        self.balance = balance\n",
    "    \n",
    "    def withdraw(self, amount):  # Amount varies with each transaction\n",
    "        if amount <= self.balance:\n",
    "            self.balance -= amount\n",
    "            return f\"Withdrew ${amount}\"\n",
    "        return \"Insufficient funds\"\n",
    "\n",
    "account = BankAccount(1000)\n",
    "account.withdraw(100)  # Different amount each time\n",
    "account.withdraw(50)"
   ]
  },
  {
   "cell_type": "code",
   "execution_count": null,
   "id": "d5f1ec85",
   "metadata": {},
   "outputs": [],
   "source": [
    "## Processing Different Data Sets\n",
    "\n",
    "class StatisticsCalculator:\n",
    "    def __init__(self):\n",
    "        pass\n",
    "    \n",
    "    def calculate_mean(self, numbers):  # Different dataset each time\n",
    "        return sum(numbers) / len(numbers)\n",
    "\n",
    "stats = StatisticsCalculator()\n",
    "mean1 = stats.calculate_mean([1, 2, 3, 4, 5])\n",
    "mean2 = stats.calculate_mean([10, 20, 30])\n",
    "\n"
   ]
  },
  {
   "cell_type": "markdown",
   "id": "7865d050",
   "metadata": {},
   "source": [
    "## **When to Store vs. Pass Directly**\n",
    "\n",
    "**Store as instance attributes when:**\n",
    "- The value is part of the object's core state\n",
    "- You'll reuse it across multiple method calls\n",
    "- It defines the object's identity or configuration\n",
    "\n",
    "**Pass directly to methods when:**\n",
    "- The value is operation-specific\n",
    "- It changes frequently\n",
    "- It's external input or temporary data\n",
    "- You want the method to be more flexible and reusable\n",
    "\n",
    "The key principle is that instance attributes should represent the object's persistent state, while method parameters should handle variable inputs and operation-specific data."
   ]
  },
  {
   "cell_type": "markdown",
   "id": "a48b0123",
   "metadata": {},
   "source": []
  }
 ],
 "metadata": {
  "kernelspec": {
   "display_name": "Python 3",
   "language": "python",
   "name": "python3"
  },
  "language_info": {
   "codemirror_mode": {
    "name": "ipython",
    "version": 3
   },
   "file_extension": ".py",
   "mimetype": "text/x-python",
   "name": "python",
   "nbconvert_exporter": "python",
   "pygments_lexer": "ipython3",
   "version": "3.11.11"
  }
 },
 "nbformat": 4,
 "nbformat_minor": 5
}
