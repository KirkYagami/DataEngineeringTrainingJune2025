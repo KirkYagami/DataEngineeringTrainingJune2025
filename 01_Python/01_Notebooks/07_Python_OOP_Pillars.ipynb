{
  "cells": [
    {
      "cell_type": "markdown",
      "metadata": {
        "id": "FucwzpxcB8F_"
      },
      "source": [
        "# Inheritance in Python\n",
        "\n",
        "## Introduction to Inheritance\n",
        "Inheritance is one of the core concepts of Object-Oriented Programming (OOP). It allows a class (called a **child** or **derived class**) to inherit attributes and methods from another class (called a **parent** or **base class**).\n",
        "This promotes code reusability, modularity, and scalability.\n",
        "\n",
        "In Python, inheritance is implemented using the syntax:\n",
        "\n",
        "```python\n",
        "class ChildClass(ParentClass):\n",
        "    # Class body\n",
        "```"
      ]
    },
    {
      "cell_type": "markdown",
      "metadata": {
        "id": "EdzOcufWCaIg"
      },
      "source": [
        "### Key Benefits of Inheritance\n",
        "1. **Code Reusability**: Common functionality can be defined in a parent class and reused in child classes.\n",
        "2. **Extensibility**: Child classes can extend or modify the behavior of the parent class.\n",
        "3. **Hierarchical Organization**: Classes can be organized into a logical hierarchy, making the codebase easier to understand and maintain."
      ]
    },
    {
      "cell_type": "markdown",
      "metadata": {
        "id": "UvpVON4hDq_b"
      },
      "source": [
        "## Types of Inheritance in Python\n",
        "\n",
        "### 1. Single Inheritance\n",
        "A single child class inherits from a single parent class.\n",
        "\n",
        "#### Example: Employee Management System"
      ]
    },
    {
      "cell_type": "code",
      "execution_count": null,
      "metadata": {
        "colab": {
          "base_uri": "https://localhost:8080/"
        },
        "id": "xLDSXVIF_S32",
        "outputId": "f24f82af-e22c-4704-cb8d-12daf07fee25"
      },
      "outputs": [
        {
          "name": "stdout",
          "output_type": "stream",
          "text": [
            "Employee Name: Alice, ID: 101\n"
          ]
        }
      ],
      "source": [
        "class Employee:\n",
        "    def __init__(self, name, employee_id):\n",
        "        self.name = name\n",
        "        self.employee_id = employee_id\n",
        "\n",
        "    def display_info(self):\n",
        "        print(f\"Employee Name: {self.name}, ID: {self.employee_id}\")\n",
        "\n",
        "\n",
        "class Manager(Employee):\n",
        "    def __init__(self, name, employee_id, department):\n",
        "        super().__init__(name, employee_id)\n",
        "        self.department = department\n",
        "\n",
        "mgr = Manager(\"Alice\", 101, \"HR\")\n",
        "mgr.display_info()\n",
        "\n",
        "\n"
      ]
    },
    {
      "cell_type": "markdown",
      "metadata": {
        "id": "vIEe-l6GD_B6"
      },
      "source": [
        "### 2. Multilevel Inheritance\n",
        "A child class inherits from a parent class, which itself inherits from another class.\n",
        "\n",
        "#### Example: Vehicle Hierarchy\n"
      ]
    },
    {
      "cell_type": "code",
      "execution_count": 2,
      "metadata": {
        "colab": {
          "base_uri": "https://localhost:8080/"
        },
        "id": "wHYLiCP1Di28",
        "outputId": "d6963e1e-0a28-41cd-8236-8f167f215ee4"
      },
      "outputs": [
        {
          "name": "stdout",
          "output_type": "stream",
          "text": [
            "Brand: Tesla\n",
            "Model: Model S\n",
            "Battery Capacity: 100 kWh\n"
          ]
        }
      ],
      "source": [
        "class Vehicle:\n",
        "    def __init__(self, brand):\n",
        "        self.brand = brand\n",
        "\n",
        "    def display_brand(self):\n",
        "        print(f\"Brand: {self.brand}\")\n",
        "\n",
        "\n",
        "class Car(Vehicle):\n",
        "    def __init__(self, brand, model):\n",
        "        super().__init__(brand)\n",
        "        self.model = model\n",
        "\n",
        "    def display_model(self):\n",
        "        print(f\"Model: {self.model}\")\n",
        "\n",
        "class ElectricCar(Car):\n",
        "    def __init__(self, brand, model, battery_capacity):\n",
        "        super().__init__(brand, model)\n",
        "        self.battery_capacity = battery_capacity\n",
        "\n",
        "\n",
        "    def display_battery(self):\n",
        "        print(f\"Battery Capacity: {self.battery_capacity} kWh\")\n",
        "\n",
        "\n",
        "tesla = ElectricCar(\"Tesla\", \"Model S\", 100)\n",
        "tesla.display_brand()\n",
        "tesla.display_model()\n",
        "tesla.display_battery()\n"
      ]
    },
    {
      "cell_type": "markdown",
      "metadata": {
        "id": "DTNNeNz-FDl2"
      },
      "source": [
        "### 3. Multiple Inheritance\n",
        "A child class inherits from multiple parent classes.\n",
        "\n",
        "#### Example: Multi-Role User System"
      ]
    },
    {
      "cell_type": "code",
      "execution_count": 3,
      "metadata": {
        "colab": {
          "base_uri": "https://localhost:8080/"
        },
        "id": "uuQgVtM7E42K",
        "outputId": "8f53f851-a6cc-4793-bb0d-ceb3eca0a75b"
      },
      "outputs": [
        {
          "name": "stdout",
          "output_type": "stream",
          "text": [
            "Writing code in Python\n",
            "Testing software for bugs\n",
            "Deploying application to production\n"
          ]
        }
      ],
      "source": [
        "class Developer:\n",
        "    def __init__(self, programming_language):\n",
        "        self.programming_language = programming_language\n",
        "\n",
        "    def write_code(self):\n",
        "        print(f\"Writing code in {self.programming_language}\")\n",
        "\n",
        "\n",
        "class Tester:\n",
        "    def test_software(self):\n",
        "        print(\"Testing software for bugs\")\n",
        "\n",
        "\n",
        "class DevOps(Developer, Tester):\n",
        "    def deploy(self):\n",
        "        print(\"Deploying application to production\")\n",
        "\n",
        "\n",
        "devops = DevOps(\"Python\")\n",
        "\n",
        "devops.write_code()\n",
        "devops.test_software()\n",
        "devops.deploy()"
      ]
    },
    {
      "cell_type": "markdown",
      "metadata": {
        "id": "lUCQLguwGBeI"
      },
      "source": [
        "### 4. Hierarchical Inheritance\n",
        "Multiple child classes inherit from a single parent class.\n",
        "\n",
        "#### Example: Shape Hierarchy"
      ]
    },
    {
      "cell_type": "code",
      "execution_count": 9,
      "metadata": {
        "colab": {
          "base_uri": "https://localhost:8080/"
        },
        "id": "aoZbiyvLFoF2",
        "outputId": "efbecd2c-43fb-45d6-80a8-ca812ddab1dd"
      },
      "outputs": [
        {
          "name": "stdout",
          "output_type": "stream",
          "text": [
            "This shape is red\n"
          ]
        },
        {
          "data": {
            "text/plain": [
              "78.5"
            ]
          },
          "execution_count": 9,
          "metadata": {},
          "output_type": "execute_result"
        }
      ],
      "source": [
        "class Shape:\n",
        "    def __init__(self, color):\n",
        "        self.color = color\n",
        "\n",
        "    def describe(self):\n",
        "        print(f\"This shape is {self.color}\")\n",
        "\n",
        "class Circle(Shape):\n",
        "    def __init__(self, color, radius):\n",
        "        super().__init__(color)\n",
        "        self.radius = radius\n",
        "\n",
        "    def calculate_area(self):\n",
        "        return 3.14 * self.radius ** 2\n",
        "\n",
        "\n",
        "class Rectangle(Shape):\n",
        "    def __init__(self, color, length, width):\n",
        "        super().__init__(color)\n",
        "        self.length = length\n",
        "        self.width = width\n",
        "    def calculate_area(self):\n",
        "        return self.length * self.width\n",
        "\n",
        "circle = Circle(\"red\", 5)\n",
        "circle.describe()\n",
        "circle.calculate_area()\n",
        "\n",
        "\n"
      ]
    },
    {
      "cell_type": "code",
      "execution_count": 8,
      "metadata": {
        "colab": {
          "base_uri": "https://localhost:8080/"
        },
        "id": "eD09W4CqGtlq",
        "outputId": "4595302b-7ea8-4a6c-f512-ae131c592f69"
      },
      "outputs": [
        {
          "name": "stdout",
          "output_type": "stream",
          "text": [
            "This shape is blue\n"
          ]
        },
        {
          "data": {
            "text/plain": [
              "20"
            ]
          },
          "execution_count": 8,
          "metadata": {},
          "output_type": "execute_result"
        }
      ],
      "source": [
        "\n",
        "\n",
        "rec = Rectangle(\"blue\", 4, 5)\n",
        "rec.describe()\n",
        "rec.calculate_area()"
      ]
    },
    {
      "cell_type": "code",
      "execution_count": 11,
      "metadata": {
        "colab": {
          "base_uri": "https://localhost:8080/"
        },
        "id": "JArp5b69HTEi",
        "outputId": "df99b61c-932f-4fe0-c293-83fab56bd923"
      },
      "outputs": [
        {
          "name": "stdout",
          "output_type": "stream",
          "text": [
            "Collecting tk\n",
            "  Downloading tk-0.1.0-py3-none-any.whl.metadata (693 bytes)\n",
            "Downloading tk-0.1.0-py3-none-any.whl (3.9 kB)\n",
            "Installing collected packages: tk\n",
            "Successfully installed tk-0.1.0\n"
          ]
        }
      ],
      "source": [
        "!pip install tk"
      ]
    },
    {
      "cell_type": "code",
      "execution_count": null,
      "metadata": {
        "id": "kr5-TG6eH_iS"
      },
      "outputs": [],
      "source": [
        "# Please execute this in VS code, Jupyter Notebook running on your system.\n",
        "import tkinter as tk\n",
        "\n",
        "class CustomButton(tk.Button):\n",
        "    def __init__(self, master, text, command=None):\n",
        "        super().__init__(master, text=text, command=command, bg=\"lightblue\",\n",
        "                         fg=\"black\")\n",
        "\n",
        "    def on_click(self):\n",
        "        print(\"Custom button clicked!\")\n",
        "\n",
        "# Usage\n",
        "root = tk.Tk()\n",
        "button = CustomButton(root, text=\"Click Me\", command=lambda: button.on_click())\n",
        "button.pack()\n",
        "root.mainloop()"
      ]
    },
    {
      "cell_type": "markdown",
      "metadata": {
        "id": "mQBbMShlL3BV"
      },
      "source": [
        "1 + 2\n",
        "\n",
        "'s' + 'a' + 'y'"
      ]
    },
    {
      "cell_type": "code",
      "execution_count": 15,
      "metadata": {
        "colab": {
          "base_uri": "https://localhost:8080/",
          "height": 52
        },
        "id": "i0t1Nw73MGOn",
        "outputId": "7b0b5269-6e4f-4c36-9f52-d413f9041908"
      },
      "outputs": [
        {
          "name": "stdout",
          "output_type": "stream",
          "text": [
            "3\n"
          ]
        },
        {
          "data": {
            "application/vnd.google.colaboratory.intrinsic+json": {
              "type": "string"
            },
            "text/plain": [
              "'say'"
            ]
          },
          "execution_count": 15,
          "metadata": {},
          "output_type": "execute_result"
        }
      ],
      "source": [
        "print(1 + 2)\n",
        "\n",
        "'s' + 'a' + 'y'"
      ]
    },
    {
      "cell_type": "markdown",
      "metadata": {
        "id": "p9ZXmsI5L2-O"
      },
      "source": [
        "## Polymorphism\n",
        "Polymorphism is a core concept in Object-Oriented Programming (OOP) that allows objects of different classes to be treated as objects of a common superclass. It provides a way to perform a single action in different forms."
      ]
    },
    {
      "cell_type": "code",
      "execution_count": 16,
      "metadata": {
        "colab": {
          "base_uri": "https://localhost:8080/"
        },
        "id": "MQ8fasTHMOei",
        "outputId": "d689de09-adaa-4e16-9175-7166ec4b261f"
      },
      "outputs": [
        {
          "name": "stdout",
          "output_type": "stream",
          "text": [
            "Woof!\n",
            "Meow!\n"
          ]
        }
      ],
      "source": [
        "## Base Class\n",
        "class Animal:\n",
        "    def speak(self):\n",
        "        return \"Sound of the animal\"\n",
        "\n",
        "\n",
        "\n",
        "## Derived Class 1\n",
        "class Dog(Animal):\n",
        "    def speak(self):\n",
        "        return \"Woof!\"\n",
        "\n",
        "\n",
        "## Derived class\n",
        "class Cat(Animal):\n",
        "    def speak(self):\n",
        "        return \"Meow!\"\n",
        "\n",
        "\n",
        "def animal_speak(animal):\n",
        "    print(animal.speak())\n",
        "\n",
        "dog=Dog()\n",
        "cat=Cat()\n",
        "print(dog.speak())\n",
        "print(cat.speak())\n"
      ]
    },
    {
      "cell_type": "code",
      "execution_count": 18,
      "metadata": {
        "colab": {
          "base_uri": "https://localhost:8080/"
        },
        "id": "vEJzC_lsMyii",
        "outputId": "da8b507a-8ac0-4537-ad83-9ba6eeb19cdc"
      },
      "outputs": [
        {
          "name": "stdout",
          "output_type": "stream",
          "text": [
            "Meow!\n"
          ]
        }
      ],
      "source": [
        "animal_speak(cat)"
      ]
    },
    {
      "cell_type": "markdown",
      "metadata": {
        "id": "-7eskP7CNoZo"
      },
      "source": [
        "#### Polymorphism with Abstract Base Classes\n",
        "Abstract Base Classes (ABCs) are used to define common methods for a group of related objects. They can enforce that derived classes implement particular methods, promoting consistency across different implementations."
      ]
    },
    {
      "cell_type": "code",
      "execution_count": 23,
      "metadata": {
        "colab": {
          "base_uri": "https://localhost:8080/"
        },
        "id": "o-2g6pnJNtq8",
        "outputId": "6c060102-8413-4f22-8576-e4018864aed1"
      },
      "outputs": [
        {
          "name": "stdout",
          "output_type": "stream",
          "text": [
            "Motorcycle enginer started\n"
          ]
        }
      ],
      "source": [
        "from abc import ABC, abstractmethod\n",
        "\n",
        "class Vehicle(ABC):\n",
        "    @abstractmethod\n",
        "    def start_engine(self):\n",
        "        pass\n",
        "\n",
        "\n",
        "class Car(Vehicle):\n",
        "    def start_engine(self):\n",
        "        return \"Car enginer started\"\n",
        "\n",
        "class Motorcycle(Vehicle):\n",
        "    def start_engine(self):\n",
        "        return \"Motorcycle enginer started\"\n",
        "\n",
        "def start_vehicle(vehicle):\n",
        "    print(vehicle.start_engine())\n",
        "\n",
        "\n",
        "car = Car()\n",
        "motorcycle = Motorcycle()\n",
        "\n",
        "start_vehicle(motorcycle)"
      ]
    },
    {
      "cell_type": "code",
      "execution_count": null,
      "metadata": {
        "id": "-X4q6sBgOy_M"
      },
      "outputs": [],
      "source": [
        "## Encapuslation - HW -> private, protected and public atrributes. Name Mangling\n",
        "## sqlite3\n",
        "\n",
        "## Generators, Iterators, Decorators\n",
        "\n",
        "## Pandas, Numpy, Matplotlib, Seaborn\n",
        "\n",
        "## Connecting to the databases\n",
        "    - Msql\n",
        "    - PostgreSQL\n"
      ]
    },
    {
      "cell_type": "code",
      "execution_count": 1,
      "metadata": {
        "id": "Dqe_AzfhQhaW"
      },
      "outputs": [],
      "source": []
    },
    {
      "cell_type": "markdown",
      "metadata": {
        "id": "mUYszTg6jUJE"
      },
      "source": [
        "## Data Engg Examples of Inheritance:"
      ]
    },
    {
      "cell_type": "markdown",
      "metadata": {
        "id": "HpBScxLcjSB5"
      },
      "source": [
        "### Example 1: Data Source Connectors"
      ]
    },
    {
      "cell_type": "code",
      "execution_count": 2,
      "metadata": {
        "colab": {
          "base_uri": "https://localhost:8080/"
        },
        "id": "O_nk4KjgjRAL",
        "outputId": "a0d635b6-136c-42cc-f0a1-179973c8f82e"
      },
      "outputs": [
        {
          "name": "stdout",
          "output_type": "stream",
          "text": [
            "Connecting to postgresql://localhost:5432/db\n",
            "Executing SQL query: SELECT * FROM users\n",
            "[{'id': 1, 'name': 'John'}, {'id': 2, 'name': 'Jane'}]\n"
          ]
        }
      ],
      "source": [
        "class DataSource:\n",
        "    def __init__(self, connection_string):\n",
        "        self.connection_string = connection_string\n",
        "        self.connection = None\n",
        "\n",
        "    def connect(self):\n",
        "        print(f\"Connecting to {self.connection_string}\")\n",
        "\n",
        "    def extract_data(self):\n",
        "        raise NotImplementedError(\"Subclasses must implement extract_data\")\n",
        "\n",
        "    def close_connection(self):\n",
        "        print(\"Closing connection\")\n",
        "\n",
        "class DatabaseSource(DataSource):\n",
        "    def __init__(self, connection_string, query):\n",
        "        super().__init__(connection_string)\n",
        "        self.query = query\n",
        "\n",
        "    def extract_data(self):\n",
        "        print(f\"Executing SQL query: {self.query}\")\n",
        "        return [{\"id\": 1, \"name\": \"John\"}, {\"id\": 2, \"name\": \"Jane\"}]\n",
        "\n",
        "class APISource(DataSource):\n",
        "    def __init__(self, connection_string, endpoint):\n",
        "        super().__init__(connection_string)\n",
        "        self.endpoint = endpoint\n",
        "\n",
        "    def extract_data(self):\n",
        "        print(f\"Making API call to: {self.endpoint}\")\n",
        "        return {\"users\": [{\"id\": 1, \"name\": \"Alice\"}]}\n",
        "\n",
        "# Usage\n",
        "db_source = DatabaseSource(\"postgresql://localhost:5432/db\", \"SELECT * FROM users\")\n",
        "api_source = APISource(\"https://api.example.com\", \"/users\")\n",
        "\n",
        "db_source.connect()\n",
        "data = db_source.extract_data()\n",
        "print(data)"
      ]
    },
    {
      "cell_type": "markdown",
      "metadata": {
        "id": "cjQcEkfdj3fM"
      },
      "source": [
        "### Example 2: Data Transformers"
      ]
    },
    {
      "cell_type": "code",
      "execution_count": 3,
      "metadata": {
        "colab": {
          "base_uri": "https://localhost:8080/"
        },
        "id": "oA-FUOmSjrC1",
        "outputId": "29a8cd86-7040-4d85-ce21-865464830d0b"
      },
      "outputs": [
        {
          "name": "stdout",
          "output_type": "stream",
          "text": [
            "Starting Data Cleaning transformation\n",
            "Cleaned data: removed 1 null records\n",
            "Starting Data Aggregation transformation\n",
            "Grouped data by dept\n",
            "{'IT': [{'name': 'John', 'dept': 'IT'}, {'name': 'Jane', 'dept': 'IT'}]}\n"
          ]
        }
      ],
      "source": [
        "class DataTransformer:\n",
        "    def __init__(self, name):\n",
        "        self.name = name\n",
        "\n",
        "    def transform(self, data):\n",
        "        print(f\"Starting {self.name} transformation\")\n",
        "        return self._apply_transformation(data)\n",
        "\n",
        "    def _apply_transformation(self, data):\n",
        "        raise NotImplementedError(\"Subclasses must implement transformation logic\")\n",
        "\n",
        "class CleaningTransformer(DataTransformer):\n",
        "    def __init__(self):\n",
        "        super().__init__(\"Data Cleaning\")\n",
        "\n",
        "    def _apply_transformation(self, data):\n",
        "        # Remove null values, standardize formats\n",
        "        cleaned_data = [record for record in data if record.get('name')]\n",
        "        print(f\"Cleaned data: removed {len(data) - len(cleaned_data)} null records\")\n",
        "        return cleaned_data\n",
        "\n",
        "class AggregationTransformer(DataTransformer):\n",
        "    def __init__(self, group_by_field):\n",
        "        super().__init__(\"Data Aggregation\")\n",
        "        self.group_by = group_by_field\n",
        "\n",
        "    def _apply_transformation(self, data):\n",
        "        # Simple grouping example\n",
        "        grouped = {}\n",
        "        for record in data:\n",
        "            key = record.get(self.group_by, 'unknown')\n",
        "            if key not in grouped:\n",
        "                grouped[key] = []\n",
        "            grouped[key].append(record)\n",
        "        print(f\"Grouped data by {self.group_by}\")\n",
        "        return grouped\n",
        "\n",
        "# Usage\n",
        "raw_data = [{\"name\": \"John\", \"dept\": \"IT\"},\n",
        "            {\"name\": None, \"dept\": \"HR\"},\n",
        "            {\"name\": \"Jane\", \"dept\": \"IT\"}]\n",
        "\n",
        "cleaner = CleaningTransformer()\n",
        "aggregator = AggregationTransformer(\"dept\")\n",
        "\n",
        "clean_data = cleaner.transform(raw_data)\n",
        "grouped_data = aggregator.transform(clean_data)\n",
        "print(grouped_data)"
      ]
    },
    {
      "cell_type": "markdown",
      "metadata": {
        "id": "VhaJqhpwjQuA"
      },
      "source": []
    },
    {
      "cell_type": "markdown",
      "metadata": {
        "id": "4px_OQazQhFv"
      },
      "source": []
    },
    {
      "cell_type": "code",
      "execution_count": 5,
      "metadata": {
        "colab": {
          "base_uri": "https://localhost:8080/"
        },
        "id": "J4rBtJYprXK3",
        "outputId": "1a2669c2-8a2c-460f-c127-6f2b543be4c8"
      },
      "outputs": [
        {
          "name": "stdout",
          "output_type": "stream",
          "text": [
            "=== CUSTOM EXCEPTIONS===\n",
            "=== BASIC EXAM ELIGIBILITY CHECKER ===\n",
            "Enter your birth year: 1995\n",
            "Your calculated age: 30\n",
            "✓ Age 30 is valid! You can apply for the exam.\n"
          ]
        }
      ],
      "source": [
        "\"\"\"\n",
        "WHAT ARE CUSTOM EXCEPTIONS?\n",
        "---------------------------\n",
        "Custom exceptions are your own error types that you create to handle specific\n",
        "problems in your code. Think of them as custom error messages that are more\n",
        "meaningful than generic Python errors.\n",
        "\n",
        "WHY USE CUSTOM EXCEPTIONS?\n",
        "--------------------------\n",
        "1. More descriptive error messages\n",
        "2. Better code organization\n",
        "3. Specific error handling for different problems\n",
        "4. Professional code structure\n",
        "\"\"\"\n",
        "\n",
        "# =============================================================================\n",
        "# STEP 1: CREATING CUSTOM EXCEPTION CLASSES\n",
        "# =============================================================================\n",
        "\n",
        "# Base exception class - this is like creating a \"family\" of errors\n",
        "class AgeValidationError(Exception):\n",
        "    \"\"\"\n",
        "    Base class for all age-related validation errors.\n",
        "\n",
        "    Why inherit from Exception?\n",
        "    - Exception is Python's built-in class for all errors\n",
        "    - By inheriting from it, our custom class becomes a \"real\" exception\n",
        "    - Python's try/except blocks will recognize it as an exception\n",
        "    \"\"\"\n",
        "    pass\n",
        "\n",
        "# Specific exception classes - these are \"children\" of our base class\n",
        "class TooYoungError(AgeValidationError):\n",
        "    \"\"\"Raised when age is below the minimum requirement\"\"\"\n",
        "    pass\n",
        "\n",
        "class TooOldError(AgeValidationError):\n",
        "    \"\"\"Raised when age is above the maximum requirement\"\"\"\n",
        "    pass\n",
        "\n",
        "# =============================================================================\n",
        "# STEP 2: Example usage\n",
        "# =============================================================================\n",
        "\n",
        "def check_exam_eligibility():\n",
        "    print(\"=== BASIC EXAM ELIGIBILITY CHECKER ===\")\n",
        "\n",
        "    try:\n",
        "        year = int(input(\"Enter your birth year: \"))\n",
        "        age = 2025 - year\n",
        "\n",
        "        print(f\"Your calculated age: {age}\")\n",
        "\n",
        "        if age < 20:\n",
        "            raise TooYoungError(f\"Age {age} is too young. Minimum age is 20.\")\n",
        "        elif age > 30:\n",
        "            raise TooOldError(f\"Age {age} is too old. Maximum age is 30.\")\n",
        "        else:\n",
        "            # Age is between 20-30 (inclusive)\n",
        "            print(f\"✓ Age {age} is valid! You can apply for the exam.\")\n",
        "\n",
        "    except TooYoungError as e:\n",
        "        print(f\"❌ Sorry: {e}\")\n",
        "    except TooOldError as e:\n",
        "        print(f\"❌ Sorry: {e}\")\n",
        "    except ValueError:\n",
        "        print(\"❌ Please enter a valid year (numbers only)\")\n",
        "\n",
        "\n",
        "if __name__ == \"__main__\":\n",
        "    print(\"=== CUSTOM EXCEPTIONS===\")\n",
        "\n",
        "\n",
        "    check_exam_eligibility()\n",
        "\n",
        "\n"
      ]
    },
    {
      "cell_type": "code",
      "execution_count": null,
      "metadata": {
        "id": "05vdiIkyrXyw"
      },
      "outputs": [],
      "source": []
    }
  ],
  "metadata": {
    "colab": {
      "provenance": []
    },
    "kernelspec": {
      "display_name": "Python 3",
      "name": "python3"
    },
    "language_info": {
      "name": "python"
    }
  },
  "nbformat": 4,
  "nbformat_minor": 0
}
