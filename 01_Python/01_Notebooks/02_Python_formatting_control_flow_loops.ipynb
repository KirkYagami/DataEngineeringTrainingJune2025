{
  "nbformat": 4,
  "nbformat_minor": 0,
  "metadata": {
    "colab": {
      "provenance": []
    },
    "kernelspec": {
      "name": "python3",
      "display_name": "Python 3"
    },
    "language_info": {
      "name": "python"
    }
  },
  "cells": [
    {
      "cell_type": "markdown",
      "source": [
        "## Python String Formatting:\n",
        "\n",
        "String formatting in Python is a powerful way to create clean and readable output, especially when working with numbers, dates, and other data types. Python provides several methods for string formatting we will explore `f-string` (formatted string literals)..."
      ],
      "metadata": {
        "id": "SdIvBYcgqCw-"
      }
    },
    {
      "cell_type": "code",
      "execution_count": 3,
      "metadata": {
        "colab": {
          "base_uri": "https://localhost:8080/"
        },
        "id": "AvQGYExxp0da",
        "outputId": "00ca2e33-a00b-406a-9d22-610070ce604d"
      },
      "outputs": [
        {
          "output_type": "stream",
          "name": "stdout",
          "text": [
            "The first number is  10 and the second number is 20 .\n"
          ]
        }
      ],
      "source": [
        "num1 = 10\n",
        "num2 = 20\n",
        "\n",
        "print(\"The first number is \", num1, \"and the second number is\", num2,\".\")"
      ]
    },
    {
      "cell_type": "code",
      "source": [
        "print(f\"The first number is {num1} and the second number is {num2}.\")"
      ],
      "metadata": {
        "colab": {
          "base_uri": "https://localhost:8080/"
        },
        "id": "glQpWZ6FqYlH",
        "outputId": "c3dd18a7-cc09-4c40-b075-f1567a783849"
      },
      "execution_count": 9,
      "outputs": [
        {
          "output_type": "stream",
          "name": "stdout",
          "text": [
            "The first number is 10 and the second number is 20.\n"
          ]
        }
      ]
    },
    {
      "cell_type": "markdown",
      "source": [
        "---\n",
        "### 1. **Basic String Formatting with f-strings**\n",
        "\n",
        "An f-string allows you to embed expressions inside string literals, using curly braces `{}`. It automatically evaluates the expression inside the braces and inserts the result into the string.\n",
        "\n",
        "**Syntax:**\n",
        "\n",
        "```python\n",
        "f\"some string {expression}\"\n",
        "```"
      ],
      "metadata": {
        "id": "CQie5PCtq-qA"
      }
    },
    {
      "cell_type": "code",
      "source": [
        "name = \"Alice\"\n",
        "age = 24\n",
        "print(f\"Hello, my name is {name} and I am {age} years old.\")"
      ],
      "metadata": {
        "colab": {
          "base_uri": "https://localhost:8080/"
        },
        "id": "XHBhBksFq0we",
        "outputId": "f585d49a-60b4-4e0a-d059-cccccba23234"
      },
      "execution_count": 10,
      "outputs": [
        {
          "output_type": "stream",
          "name": "stdout",
          "text": [
            "Hello, my name is Alice and I am 24 years old.\n"
          ]
        }
      ]
    },
    {
      "cell_type": "markdown",
      "source": [
        "---\n",
        "### 2. **Number Formatting in f-strings**\n",
        "\n",
        "When dealing with numbers, f-strings allow precise control over how they are formatted. You can specify the number of decimal places, padding, alignment, and more. This is controlled by the **format specifiers**.\n",
        "\n",
        "### 2.1 **Integer Formatting:**\n",
        "\n",
        "Use the `d` format specifier to format integers."
      ],
      "metadata": {
        "id": "8RZvOYzbrR1P"
      }
    },
    {
      "cell_type": "code",
      "source": [
        "number = 1234\n",
        "print(f\"Integer: {number:d}\")"
      ],
      "metadata": {
        "colab": {
          "base_uri": "https://localhost:8080/"
        },
        "id": "T51GWa7srPRF",
        "outputId": "a41b1bbf-ae79-45ba-8128-2d40975f136f"
      },
      "execution_count": 17,
      "outputs": [
        {
          "output_type": "stream",
          "name": "stdout",
          "text": [
            "Integer: 1234\n"
          ]
        }
      ]
    },
    {
      "cell_type": "markdown",
      "source": [
        "---\n",
        "\n",
        "### 2.2 **Floating-Point Formatting:**\n",
        "\n",
        "Use the `f` format specifier for floating-point numbers. You can control the number of decimal places.\n"
      ],
      "metadata": {
        "id": "2WRSq-vxr2a9"
      }
    },
    {
      "cell_type": "code",
      "source": [
        "pi = 3.141592653589793\n",
        "print(f\"Pi rounded to 2 decimal places: {pi:.2f}\")\n",
        "\n",
        "# ':.2f': Rounds the number to 2 decimal places."
      ],
      "metadata": {
        "colab": {
          "base_uri": "https://localhost:8080/"
        },
        "id": "y6UjItUKrgVg",
        "outputId": "30d0c5b1-f047-4e20-c9bc-d7a672ac2ae7"
      },
      "execution_count": 18,
      "outputs": [
        {
          "output_type": "stream",
          "name": "stdout",
          "text": [
            "Pi rounded to 2 decimal places: 3.14\n"
          ]
        }
      ]
    },
    {
      "cell_type": "markdown",
      "source": [
        "---\n",
        "\n",
        "### 2.3 **Scientific Notation:**\n",
        "\n",
        "Use the `e` format specifier for scientific notation."
      ],
      "metadata": {
        "id": "cqBxUTVnsFU7"
      }
    },
    {
      "cell_type": "code",
      "source": [
        "large_number = 1234567\n",
        "print(f\"Scientific notation: {large_number:.5e}\")"
      ],
      "metadata": {
        "colab": {
          "base_uri": "https://localhost:8080/"
        },
        "id": "UOI5RA3gsBVL",
        "outputId": "918d20ae-39a6-4e5a-c967-4205c0c908f1"
      },
      "execution_count": 21,
      "outputs": [
        {
          "output_type": "stream",
          "name": "stdout",
          "text": [
            "Scientific notation: 1.23457e+06\n"
          ]
        }
      ]
    },
    {
      "cell_type": "markdown",
      "source": [
        "---\n",
        "\n",
        "### 2.4 **General Format:**\n",
        "\n",
        "The `g` specifier is a general format specifier that uses either fixed-point or scientific notation, depending on the size of the number and the precision."
      ],
      "metadata": {
        "id": "08bcMBLusxEQ"
      }
    },
    {
      "cell_type": "code",
      "source": [
        "value = 238752817532.00012348768768\n",
        "print(f\"General format: {value:.2g}\")"
      ],
      "metadata": {
        "colab": {
          "base_uri": "https://localhost:8080/"
        },
        "id": "YjTCSCOSsKyW",
        "outputId": "efa895f1-ffa3-4efc-af86-c2cb388f68ad"
      },
      "execution_count": 25,
      "outputs": [
        {
          "output_type": "stream",
          "name": "stdout",
          "text": [
            "General format: 2.4e+11\n"
          ]
        }
      ]
    },
    {
      "cell_type": "markdown",
      "source": [
        "---\n",
        "\n",
        "### 3. **Controlling the Width and Alignment**\n",
        "\n",
        "You can specify the **width** of the formatted output and control **alignment** (left, right, or center). This is useful when you need to align data in tables or output that requires specific formatting.\n",
        "\n",
        "### 3.1 **Setting Width:**\n",
        "\n",
        "The width specifies the minimum number of characters that the formatted output should occupy. If the number is smaller than the specified width, spaces will be added."
      ],
      "metadata": {
        "id": "OHaeHK_XtE-6"
      }
    },
    {
      "cell_type": "code",
      "source": [
        "number = 42\n",
        "print(f\"Width of 10:{number:10d}\")"
      ],
      "metadata": {
        "colab": {
          "base_uri": "https://localhost:8080/"
        },
        "id": "14BotT12sa3p",
        "outputId": "c0bb9093-a204-40b8-d496-9b825de47085"
      },
      "execution_count": 31,
      "outputs": [
        {
          "output_type": "stream",
          "name": "stdout",
          "text": [
            "Width of 10:        42\n"
          ]
        }
      ]
    },
    {
      "cell_type": "markdown",
      "source": [
        "---\n",
        "\n",
        "### 3.2 **Alignment:**\n",
        "\n",
        "You can align the formatted value within the available width using the following options:\n",
        "\n",
        "- **`<`**: Left-aligns the value.\n",
        "- **`>`**: Right-aligns the value (default for numbers).\n",
        "- **`^`**: Centers the value."
      ],
      "metadata": {
        "id": "kq8dm7P1tmjw"
      }
    },
    {
      "cell_type": "code",
      "source": [
        "number = 42\n",
        "print(f\"Left aligned: {number:<10d}\")\n",
        "print(f\"Right aligned: {number:>10d}\")\n",
        "print(f\"Center aligned: {number:^10d}\")"
      ],
      "metadata": {
        "colab": {
          "base_uri": "https://localhost:8080/"
        },
        "id": "0Cj0dSu6tZj2",
        "outputId": "33783f88-b193-4f7a-dde1-f622f52625f2"
      },
      "execution_count": 32,
      "outputs": [
        {
          "output_type": "stream",
          "name": "stdout",
          "text": [
            "Left aligned: 42        \n",
            "Right aligned:         42\n",
            "Center aligned:     42    \n"
          ]
        }
      ]
    },
    {
      "cell_type": "markdown",
      "source": [
        "### 3.3 **Padding with Zeroes:**\n",
        "\n",
        "You can pad numbers with leading zeroes using the `0` specifier."
      ],
      "metadata": {
        "id": "VqrGwMwOt8Tx"
      }
    },
    {
      "cell_type": "code",
      "source": [
        "number = 42\n",
        "print(f\"Zero-padded: {number:05d}\")"
      ],
      "metadata": {
        "colab": {
          "base_uri": "https://localhost:8080/"
        },
        "id": "WbwSMzIwtslE",
        "outputId": "295d452a-2e84-41b2-e3a4-7c7a67843fc8"
      },
      "execution_count": 33,
      "outputs": [
        {
          "output_type": "stream",
          "name": "stdout",
          "text": [
            "Zero-padded: 00042\n"
          ]
        }
      ]
    },
    {
      "cell_type": "markdown",
      "source": [
        "---\n",
        "\n",
        "### 4. **Sign Formatting**\n",
        "\n",
        "You can control how the sign (positive or negative) is displayed with the following options:\n",
        "\n",
        "- **`+`**: Always displays the sign (positive or negative).\n",
        "- **`-`**: Displays the sign only for negative numbers (default).\n",
        "- : Displays a space for positive numbers (optional)."
      ],
      "metadata": {
        "id": "C9bmWVhyuFUC"
      }
    },
    {
      "cell_type": "code",
      "source": [
        "positive_number = 42\n",
        "negative_number = -42\n",
        "print(f\"Positive with sign: {positive_number:+d}\")\n",
        "print(f\"Negative with sign: {negative_number:+d}\")\n",
        "print(f\"Space for positive: {positive_number: }\")"
      ],
      "metadata": {
        "colab": {
          "base_uri": "https://localhost:8080/"
        },
        "id": "ktLi2uX0uBdQ",
        "outputId": "62b35060-df3b-4a0e-a536-991d9aa12eaf"
      },
      "execution_count": 36,
      "outputs": [
        {
          "output_type": "stream",
          "name": "stdout",
          "text": [
            "Positive with sign: +42\n",
            "Negative with sign: -42\n",
            "Space for positive:  42\n"
          ]
        }
      ]
    },
    {
      "cell_type": "markdown",
      "source": [
        "---\n",
        "\n",
        "### 5. **Percentage Formatting**\n",
        "\n",
        "To format a number as a percentage, use the `%` format specifier. This multiplies the value by 100 and appends a `%` symbol.\n"
      ],
      "metadata": {
        "id": "E8lNu4Ctud43"
      }
    },
    {
      "cell_type": "code",
      "source": [
        "value = 0.125\n",
        "print(f\"Percentage: {value:.2%}\")"
      ],
      "metadata": {
        "colab": {
          "base_uri": "https://localhost:8080/"
        },
        "id": "Nr143nT3uSmT",
        "outputId": "9ff8c0f4-079e-4b2a-e0f9-78421e30c8d6"
      },
      "execution_count": 39,
      "outputs": [
        {
          "output_type": "stream",
          "name": "stdout",
          "text": [
            "Percentage: 12.50%\n"
          ]
        }
      ]
    },
    {
      "cell_type": "markdown",
      "source": [
        "---\n",
        "### 6. **Comma as Thousands Separator**\n",
        "\n",
        "You can format large numbers with commas as thousands separators using the `,` specifier."
      ],
      "metadata": {
        "id": "kgPyqr02u3Xs"
      }
    },
    {
      "cell_type": "code",
      "source": [
        "large_number = 1234567890\n",
        "print(f\"With commas: {large_number:,}\")"
      ],
      "metadata": {
        "colab": {
          "base_uri": "https://localhost:8080/"
        },
        "id": "255EQ23Vut2b",
        "outputId": "d7ff30cd-f986-4f1b-8887-3aa532c33e9f"
      },
      "execution_count": 40,
      "outputs": [
        {
          "output_type": "stream",
          "name": "stdout",
          "text": [
            "With commas: 1,234,567,890\n"
          ]
        }
      ]
    },
    {
      "cell_type": "code",
      "source": [],
      "metadata": {
        "id": "7aXO85sfvERi"
      },
      "execution_count": null,
      "outputs": []
    },
    {
      "cell_type": "markdown",
      "source": [
        "---\n",
        "\n",
        "### 8. **Date and Time Formatting**\n",
        "\n",
        "Python’s `datetime` module allows formatting dates and times. The `strftime` method is used to format `datetime` objects into readable strings."
      ],
      "metadata": {
        "id": "DT5AV8IpvKjA"
      }
    },
    {
      "cell_type": "code",
      "source": [
        "from datetime import datetime\n",
        "\n",
        "now = datetime.now()\n",
        "print(f\"Current date and time: {now:%Y-%m-%d %H:%M:%S}\")"
      ],
      "metadata": {
        "colab": {
          "base_uri": "https://localhost:8080/"
        },
        "id": "tkPMJK3ivM-0",
        "outputId": "5326b5e2-6b10-4b25-80b2-563d9873d309"
      },
      "execution_count": 45,
      "outputs": [
        {
          "output_type": "stream",
          "name": "stdout",
          "text": [
            "Current date and time: 2025-06-03 17:03:41\n"
          ]
        }
      ]
    },
    {
      "cell_type": "markdown",
      "source": [
        "Here are some common date-time format codes:\n",
        "\n",
        "- **`%Y`**: Year with century.\n",
        "- **`%m`**: Month (2 digits).\n",
        "- **`%d`**: Day of the month (2 digits).\n",
        "- **`%H`**: Hour (24-hour clock).\n",
        "- **`%M`**: Minute.\n",
        "- **`%S`**: Second."
      ],
      "metadata": {
        "id": "5XmkzRrlwBDG"
      }
    },
    {
      "cell_type": "markdown",
      "source": [
        "---\n",
        "### 9. **`strftime` for Date and Time Formatting**\n",
        "\n",
        "The `strftime()` method in Python is used to convert a `datetime` object into a string based on a specific format. It allows you to create custom date and time representations that fit your needs. This is especially useful when working with timestamps, logging, or presenting dates in different formats.\n",
        "\n",
        "To use `strftime`, you first need to import the `datetime` module and create a `datetime` object (or use `datetime.now()` for the current date and time).\n",
        "\n",
        "### **Syntax:**\n",
        "\n",
        "```python\n",
        "datetime_object.strftime(format_string)\n",
        "```\n",
        "\n",
        "\n",
        "Where:\n",
        "\n",
        "- **`datetime_object`**: A `datetime` object (e.g., `datetime.now()` or any `datetime` object you create).\n",
        "- **`format_string`**: A string that contains format codes that specify how the date and time should be displayed.\n",
        "\n",
        "---"
      ],
      "metadata": {
        "id": "GManduLBwJr8"
      }
    },
    {
      "cell_type": "markdown",
      "source": [
        "### **Common Format Codes for `strftime`:**\n",
        "\n",
        "Here are the most commonly used format codes:\n",
        "\n",
        "|Code|Description|Example Output (for `2025-02-27 14:30:59`)|\n",
        "|---|---|---|\n",
        "|`%Y`|Year with century|`2025`|\n",
        "|`%y`|Year without century|`25`|\n",
        "|`%m`|Month (01 to 12)|`02`|\n",
        "|`%d`|Day of the month (01 to 31)|`27`|\n",
        "|`%H`|Hour (00 to 23)|`14`|\n",
        "|`%I`|Hour (01 to 12)|`02`|\n",
        "|`%M`|Minute (00 to 59)|`30`|\n",
        "|`%S`|Second (00 to 59)|`59`|\n",
        "|`%p`|AM or PM|`PM`|\n",
        "|`%A`|Full weekday name|`Thursday`|\n",
        "|`%a`|Abbreviated weekday name|`Thu`|\n",
        "|`%B`|Full month name|`February`|\n",
        "|`%b`|Abbreviated month name|`Feb`|\n",
        "|`%c`|Locale's appropriate date and time representation|`Thu Feb 27 14:30:59 2025`|\n",
        "|`%x`|Locale's appropriate date representation|`02/27/25`|\n",
        "|`%X`|Locale's appropriate time representation|`14:30:59`|\n",
        "|`%j`|Day of the year (001 to 366)|`058`|\n",
        "|`%U`|Week number of the year (00 to 52) starting with Sunday|`08`|\n",
        "|`%W`|Week number of the year (00 to 52) starting with Monday|`08`|"
      ],
      "metadata": {
        "id": "VuYWlLXywfco"
      }
    },
    {
      "cell_type": "code",
      "source": [
        "from datetime import datetime\n",
        "now = datetime.now()\n",
        "\n",
        "# Format: YYYY-MM-DD HH:MM:SS\n",
        "print(now.strftime(\"%Y-%m-%d %H:%M:%S\"))"
      ],
      "metadata": {
        "colab": {
          "base_uri": "https://localhost:8080/"
        },
        "id": "N6g5J5c3vp0a",
        "outputId": "7e39df3e-1398-4c27-f8f6-69e3c4d93d96"
      },
      "execution_count": 46,
      "outputs": [
        {
          "output_type": "stream",
          "name": "stdout",
          "text": [
            "2025-06-03 17:06:52\n"
          ]
        }
      ]
    },
    {
      "cell_type": "code",
      "source": [
        "from datetime import datetime\n",
        "now = datetime.now()\n",
        "\n",
        "# Format: Day, Month Day, Year\n",
        "print(now.strftime(\"%A, %B %d, %Y\"))"
      ],
      "metadata": {
        "colab": {
          "base_uri": "https://localhost:8080/"
        },
        "id": "cze9HTz4wpTx",
        "outputId": "d332299f-1570-4419-ea1a-e8e3e47200e3"
      },
      "execution_count": 47,
      "outputs": [
        {
          "output_type": "stream",
          "name": "stdout",
          "text": [
            "Tuesday, June 03, 2025\n"
          ]
        }
      ]
    },
    {
      "cell_type": "markdown",
      "source": [
        "# Control Flow"
      ],
      "metadata": {
        "id": "lxvJM_9UxMgK"
      }
    },
    {
      "cell_type": "markdown",
      "source": [
        "#### Conditional Statements (if, elif, else)\n",
        " Outline:\n",
        "1. Introduction to Conditional Statements\n",
        "2. if Statement\n",
        "3. else Statement\n",
        "4. elif Statement\n",
        "5. Nested Conditional Statements\n",
        "6. Practical Examples\n",
        "7. Common Errors and Best Practices"
      ],
      "metadata": {
        "id": "yPXFcwD_xPqb"
      }
    },
    {
      "cell_type": "code",
      "source": [
        "## if statement\n",
        "age=17\n",
        "\n",
        "if age>=18:\n",
        "    print(\"You are allowed to vote in the elections\")\n",
        "else:\n",
        "    print(\"You are not allowed to vote in the elections\")"
      ],
      "metadata": {
        "colab": {
          "base_uri": "https://localhost:8080/"
        },
        "id": "NQvSbVYdw7jc",
        "outputId": "7a728037-9c0d-49fe-bf56-14fffedb9f1b"
      },
      "execution_count": 51,
      "outputs": [
        {
          "output_type": "stream",
          "name": "stdout",
          "text": [
            "You are not allowed to vote in the elections\n"
          ]
        }
      ]
    },
    {
      "cell_type": "code",
      "source": [
        "age>=18"
      ],
      "metadata": {
        "colab": {
          "base_uri": "https://localhost:8080/"
        },
        "id": "t-oVh3_Dxful",
        "outputId": "92c884bf-aef7-4321-8d7e-a98f130ec4a6"
      },
      "execution_count": 52,
      "outputs": [
        {
          "output_type": "execute_result",
          "data": {
            "text/plain": [
              "False"
            ]
          },
          "metadata": {},
          "execution_count": 52
        }
      ]
    },
    {
      "cell_type": "code",
      "source": [
        "## else\n",
        "## The else statement executes a block of code if the condition in the if statement is False.\n",
        "\n",
        "age=16\n",
        "\n",
        "if age>=18:\n",
        "    print(\"You are eligible for voting\")\n",
        "else:\n",
        "    print(\"You are a minor\")\n",
        "\n"
      ],
      "metadata": {
        "colab": {
          "base_uri": "https://localhost:8080/"
        },
        "id": "xGc6i3Sdx2hp",
        "outputId": "516fea11-1746-40f3-ca70-d42b8b9e84fa"
      },
      "execution_count": 53,
      "outputs": [
        {
          "output_type": "stream",
          "name": "stdout",
          "text": [
            "You are a minor\n"
          ]
        }
      ]
    },
    {
      "cell_type": "code",
      "source": [
        "## elif\n",
        "## The elif statement allows you to check multiple conditions. It stands for \"else if\"\n",
        "\n",
        "age=17\n",
        "\n",
        "if age<13:\n",
        "    print(\"You are a child\")\n",
        "elif age<18:\n",
        "    print(\"You are a teenager\")\n",
        "else:\n",
        "    print(\"You are an adult\")"
      ],
      "metadata": {
        "colab": {
          "base_uri": "https://localhost:8080/"
        },
        "id": "OoluWMQhx-Pd",
        "outputId": "7dbdcd9e-affb-4fde-fc5e-9aa9ad5c5ac9"
      },
      "execution_count": 54,
      "outputs": [
        {
          "output_type": "stream",
          "name": "stdout",
          "text": [
            "You are a teenager\n"
          ]
        }
      ]
    },
    {
      "cell_type": "code",
      "source": [
        "## Nested Condiitonal Statements\n",
        "\n",
        "# You can place one or more if, elif, or else statements inside another if, elif, or else statement to create nested conditional statements.\n",
        "\n",
        "## number even ,odd,negative\n",
        "\n",
        "num=int(input(\"Enter the number\"))\n",
        "\n",
        "if num>0:\n",
        "    print(\"The number is positive\")\n",
        "    if num%2==0:\n",
        "        print(\"The number is even\")\n",
        "    else:\n",
        "        print(\"The number is odd\")\n",
        "\n",
        "else:\n",
        "    print(\"The number is zero or negative\")"
      ],
      "metadata": {
        "colab": {
          "base_uri": "https://localhost:8080/"
        },
        "id": "nFN7dHMCyaAF",
        "outputId": "123de7db-0039-47f1-a202-f737bc7558f1"
      },
      "execution_count": 55,
      "outputs": [
        {
          "output_type": "stream",
          "name": "stdout",
          "text": [
            "Enter the number40\n",
            "The number is positive\n",
            "The number is even\n"
          ]
        }
      ]
    },
    {
      "cell_type": "code",
      "source": [
        "## Practical Examples\n",
        "\n",
        "## Determine if a year is a leap year using nested condition statement\n",
        "\n",
        "year=int(input(\"Enter the year\"))\n",
        "\n",
        "if year%4==0:\n",
        "    if year%100==0:\n",
        "        if year%400==0:\n",
        "            print(year,\"is a leap year\")\n",
        "        else:\n",
        "            print(year,\"is not a leap year\")\n",
        "    else:\n",
        "        print(year,\"is a leap year\")\n",
        "\n",
        "else:\n",
        "    print(year,\"is not a leap year\")\n"
      ],
      "metadata": {
        "colab": {
          "base_uri": "https://localhost:8080/"
        },
        "id": "aMCmBfK2zQC2",
        "outputId": "20484bc8-9855-40d5-b5d6-a26170b1e563"
      },
      "execution_count": 56,
      "outputs": [
        {
          "output_type": "stream",
          "name": "stdout",
          "text": [
            "Enter the year2024\n",
            "2024 is a leap year\n"
          ]
        }
      ]
    },
    {
      "cell_type": "code",
      "source": [
        "# Employee bonus calculation\n",
        "\n",
        "# Take user input\n",
        "years_of_service = int(input(\"Enter years of service: \"))\n",
        "performance_rating = float(input(\"Enter performance rating (1.0 to 5.0): \"))\n",
        "\n",
        "# Determine bonus percentage\n",
        "# if the performance rating is grater than 4.5.\n",
        "if performance_rating >= 4.5:\n",
        "    if years_of_service > 10:\n",
        "        bonus_percentage = 20\n",
        "    elif years_of_service > 5:\n",
        "        bonus_percentage = 15\n",
        "    else:\n",
        "        bonus_percentage = 10\n",
        "\n",
        "elif performance_rating >= 3.5:\n",
        "    if years_of_service > 10:\n",
        "        bonus_percentage = 15\n",
        "    elif years_of_service > 5:\n",
        "        bonus_percentage = 10\n",
        "    else:\n",
        "        bonus_percentage = 5\n",
        "else:\n",
        "    bonus_percentage = 0\n",
        "\n",
        "# Calculate bonus amount\n",
        "salary = float(input(\"Enter current salary: \"))\n",
        "bonus_amount = salary * bonus_percentage / 100\n",
        "\n",
        "\n",
        "print(f\"Bonus Amount: ${bonus_amount:.2f}\")"
      ],
      "metadata": {
        "colab": {
          "base_uri": "https://localhost:8080/"
        },
        "id": "nqLlmejf0Bp0",
        "outputId": "9017d400-f605-4af4-a877-8656119f49c5"
      },
      "execution_count": 57,
      "outputs": [
        {
          "output_type": "stream",
          "name": "stdout",
          "text": [
            "Enter years of service: 10\n",
            "Enter performance rating (1.0 to 5.0): 4.7\n",
            "Enter current salary: 1000\n",
            "Bonus Amount: $150.00\n"
          ]
        }
      ]
    },
    {
      "cell_type": "code",
      "source": [
        "\n",
        "print(f\"Bonus Amount: ${bonus_amount:.2f}\")"
      ],
      "metadata": {
        "colab": {
          "base_uri": "https://localhost:8080/"
        },
        "id": "Sv3DaIMM04Oq",
        "outputId": "e9938013-8390-41a1-dec9-24efe8e7bffd"
      },
      "execution_count": 58,
      "outputs": [
        {
          "output_type": "stream",
          "name": "stdout",
          "text": [
            "Bonus Amount: $150.00\n"
          ]
        }
      ]
    },
    {
      "cell_type": "markdown",
      "source": [
        "# Loops"
      ],
      "metadata": {
        "id": "eIMXSrrc1TvC"
      }
    },
    {
      "cell_type": "markdown",
      "source": [
        "Outline:\n",
        "1. Introduction to Loops\n",
        "2. for Loop\n",
        "   - Iterating over a range\n",
        "   - Iterating over a string\n",
        "\n",
        "3. while Loop\n",
        "4. Loop Control Statements\n",
        "    - break\n",
        "    - continue\n",
        "    - pass\n",
        "5. Nested Loops\n",
        "6. Practical Examples and Common Errors"
      ],
      "metadata": {
        "id": "KaUx8oy51XKG"
      }
    },
    {
      "cell_type": "code",
      "source": [
        "for i in range(5):\n",
        "  print(\"Your Name\", i)"
      ],
      "metadata": {
        "colab": {
          "base_uri": "https://localhost:8080/"
        },
        "id": "d8SzqYbd1L5b",
        "outputId": "f90dd373-4c52-4f75-a8c7-f10d4fcd7c24"
      },
      "execution_count": 60,
      "outputs": [
        {
          "output_type": "stream",
          "name": "stdout",
          "text": [
            "Your Name 0\n",
            "Your Name 1\n",
            "Your Name 2\n",
            "Your Name 3\n",
            "Your Name 4\n"
          ]
        }
      ]
    },
    {
      "cell_type": "code",
      "source": [
        "list(range(5))"
      ],
      "metadata": {
        "colab": {
          "base_uri": "https://localhost:8080/"
        },
        "id": "4e9wsPFt2DkN",
        "outputId": "dc282d17-c9b1-49bf-9662-2310bd6bee61"
      },
      "execution_count": 62,
      "outputs": [
        {
          "output_type": "execute_result",
          "data": {
            "text/plain": [
              "[0, 1, 2, 3, 4]"
            ]
          },
          "metadata": {},
          "execution_count": 62
        }
      ]
    },
    {
      "cell_type": "code",
      "source": [
        "list(range(11))"
      ],
      "metadata": {
        "colab": {
          "base_uri": "https://localhost:8080/"
        },
        "id": "SHbro6Ou2MBU",
        "outputId": "b054b82c-e62b-4842-d11a-7549a72a78fe"
      },
      "execution_count": 65,
      "outputs": [
        {
          "output_type": "execute_result",
          "data": {
            "text/plain": [
              "[0, 1, 2, 3, 4, 5, 6, 7, 8, 9, 10]"
            ]
          },
          "metadata": {},
          "execution_count": 65
        }
      ]
    },
    {
      "cell_type": "code",
      "source": [
        "list(range(1, 11))"
      ],
      "metadata": {
        "colab": {
          "base_uri": "https://localhost:8080/"
        },
        "id": "JWT9VYht2Txt",
        "outputId": "a0c6a0f6-1671-4a72-8259-d1f0168983ef"
      },
      "execution_count": 66,
      "outputs": [
        {
          "output_type": "execute_result",
          "data": {
            "text/plain": [
              "[1, 2, 3, 4, 5, 6, 7, 8, 9, 10]"
            ]
          },
          "metadata": {},
          "execution_count": 66
        }
      ]
    },
    {
      "cell_type": "code",
      "source": [
        "list(range(1, 11, 2))"
      ],
      "metadata": {
        "colab": {
          "base_uri": "https://localhost:8080/"
        },
        "id": "N6IAvroC2hIw",
        "outputId": "5ea472f1-37bd-47aa-c668-5dd15a68c41a"
      },
      "execution_count": 67,
      "outputs": [
        {
          "output_type": "execute_result",
          "data": {
            "text/plain": [
              "[1, 3, 5, 7, 9]"
            ]
          },
          "metadata": {},
          "execution_count": 67
        }
      ]
    },
    {
      "cell_type": "markdown",
      "source": [
        "---\n",
        "\n",
        "#### Let's understand `range()`\n",
        "\n",
        "In Python, the `range()` function generates a sequence of numbers, often used in loops for iteration. By default, it creates numbers starting from 0 up to but not including a specified stop value. You can also reverse the sequence with `reversed()`. If you need to count backwards, then you can use a negative step, like `range(start, stop, -1)`, which counts down from start to stop."
      ],
      "metadata": {
        "id": "0a1fpNRU24rK"
      }
    },
    {
      "cell_type": "code",
      "source": [
        "list(range(11, 0, -1))"
      ],
      "metadata": {
        "colab": {
          "base_uri": "https://localhost:8080/"
        },
        "id": "VVUSpPmg2pPy",
        "outputId": "9f51e0a4-aa65-4db2-f32a-5f8ae06e54da"
      },
      "execution_count": 70,
      "outputs": [
        {
          "output_type": "execute_result",
          "data": {
            "text/plain": [
              "[11, 10, 9, 8, 7, 6, 5, 4, 3, 2, 1]"
            ]
          },
          "metadata": {},
          "execution_count": 70
        }
      ]
    },
    {
      "cell_type": "code",
      "source": [
        "r = range(3)\n",
        "print(type(r))"
      ],
      "metadata": {
        "colab": {
          "base_uri": "https://localhost:8080/"
        },
        "id": "8OEypgL73MIJ",
        "outputId": "1225bee0-f41a-4beb-d600-bb69f8aa7796"
      },
      "execution_count": 71,
      "outputs": [
        {
          "output_type": "stream",
          "name": "stdout",
          "text": [
            "<class 'range'>\n"
          ]
        }
      ]
    },
    {
      "cell_type": "markdown",
      "source": [],
      "metadata": {
        "id": "mwmNGZio3mXp"
      }
    },
    {
      "cell_type": "markdown",
      "source": [
        "> A range is a Python object that represents an interval of integers. Usually, the numbers are consecutive, but you can also specify that you want to space them out."
      ],
      "metadata": {
        "id": "YYtgU77T3mIc"
      }
    },
    {
      "cell_type": "code",
      "source": [
        "numbers = range(1, 20, 2)\n",
        "list(reversed(numbers))"
      ],
      "metadata": {
        "colab": {
          "base_uri": "https://localhost:8080/"
        },
        "id": "ab5ZMhJY3ix8",
        "outputId": "c09ca549-1cf2-420c-fb78-6bb8fcb4ff67"
      },
      "execution_count": 73,
      "outputs": [
        {
          "output_type": "execute_result",
          "data": {
            "text/plain": [
              "[19, 17, 15, 13, 11, 9, 7, 5, 3, 1]"
            ]
          },
          "metadata": {},
          "execution_count": 73
        }
      ]
    },
    {
      "cell_type": "markdown",
      "source": [
        "---\n",
        "In Python, you can create loops using two different constructs:\n",
        "1. A `for` loop, or a definite loop, repeats an operation for each element in an existing sequence.\n",
        "2. A `while` loop, or an indefinite loop, repeats an operation until a condition is fulfilled."
      ],
      "metadata": {
        "id": "xYNvRM9W4NRY"
      }
    },
    {
      "cell_type": "code",
      "source": [
        "fruits = ['apple', 'banana', 'cherry', 'dragon fruit']\n",
        "\n",
        "for i in fruits:\n",
        "  print(i)"
      ],
      "metadata": {
        "colab": {
          "base_uri": "https://localhost:8080/"
        },
        "id": "XYuSPAtm35bd",
        "outputId": "106b0a94-a44a-403a-b60f-39c78d024b79"
      },
      "execution_count": 78,
      "outputs": [
        {
          "output_type": "stream",
          "name": "stdout",
          "text": [
            "apple\n",
            "banana\n",
            "cherry\n",
            "dragon fruit\n"
          ]
        }
      ]
    },
    {
      "cell_type": "code",
      "source": [
        "fruits = ['apple', 'banana', 'cherry', 'dragon fruit']\n",
        "\n",
        "for fruit in fruits:\n",
        "  print(fruit)"
      ],
      "metadata": {
        "colab": {
          "base_uri": "https://localhost:8080/"
        },
        "id": "3gp6qhOw4jyf",
        "outputId": "a24c269a-b466-4342-9d91-9a80c6f0709b"
      },
      "execution_count": 79,
      "outputs": [
        {
          "output_type": "stream",
          "name": "stdout",
          "text": [
            "apple\n",
            "banana\n",
            "cherry\n",
            "dragon fruit\n"
          ]
        }
      ]
    },
    {
      "cell_type": "code",
      "source": [
        "## for loop\n",
        "\n",
        "for i in range(5):\n",
        "    print(i)"
      ],
      "metadata": {
        "colab": {
          "base_uri": "https://localhost:8080/"
        },
        "id": "MhcPAuxA474E",
        "outputId": "94b0af5c-6760-4532-e1b6-a3f0e591388f"
      },
      "execution_count": 80,
      "outputs": [
        {
          "output_type": "stream",
          "name": "stdout",
          "text": [
            "0\n",
            "1\n",
            "2\n",
            "3\n",
            "4\n"
          ]
        }
      ]
    },
    {
      "cell_type": "code",
      "source": [
        "for i in range(10,1,-1):\n",
        "    print(i)"
      ],
      "metadata": {
        "colab": {
          "base_uri": "https://localhost:8080/"
        },
        "id": "LLy2jpsE5Aw0",
        "outputId": "da823cad-66a5-411e-ffbe-8e7bb5bc6e39"
      },
      "execution_count": 81,
      "outputs": [
        {
          "output_type": "stream",
          "name": "stdout",
          "text": [
            "10\n",
            "9\n",
            "8\n",
            "7\n",
            "6\n",
            "5\n",
            "4\n",
            "3\n",
            "2\n"
          ]
        }
      ]
    },
    {
      "cell_type": "code",
      "source": [
        "## strings\n",
        "\n",
        "name=\"Nikhil Sharma\"\n",
        "\n",
        "for i in name:\n",
        "    print(i)"
      ],
      "metadata": {
        "colab": {
          "base_uri": "https://localhost:8080/"
        },
        "id": "hh2oKHK95Nfa",
        "outputId": "4d337923-b301-4cf5-f1e7-00722dabd5ba"
      },
      "execution_count": 82,
      "outputs": [
        {
          "output_type": "stream",
          "name": "stdout",
          "text": [
            "N\n",
            "i\n",
            "k\n",
            "h\n",
            "i\n",
            "l\n",
            " \n",
            "S\n",
            "h\n",
            "a\n",
            "r\n",
            "m\n",
            "a\n"
          ]
        }
      ]
    },
    {
      "cell_type": "code",
      "source": [
        "## while loop\n",
        "\n",
        "## The while loop continues to execute as long as the condition is True.\n",
        "\n",
        "\n",
        "# while condition:\n",
        "  # st1\n",
        "  # st2\n"
      ],
      "metadata": {
        "id": "YyLuJL2A5YmH"
      },
      "execution_count": null,
      "outputs": []
    },
    {
      "cell_type": "code",
      "source": [
        "count=0\n",
        "\n",
        "while count<5:\n",
        "    print(count)\n",
        "    count=count+1"
      ],
      "metadata": {
        "colab": {
          "base_uri": "https://localhost:8080/"
        },
        "id": "l1_5lzJ051Ha",
        "outputId": "df7154ab-ce29-478f-bd33-67e52a2d4e0d"
      },
      "execution_count": 83,
      "outputs": [
        {
          "output_type": "stream",
          "name": "stdout",
          "text": [
            "0\n",
            "1\n",
            "2\n",
            "3\n",
            "4\n"
          ]
        }
      ]
    },
    {
      "cell_type": "code",
      "source": [
        "## Loop Control Statements\n",
        "\n",
        "## break\n",
        "## The break statement exits the loop prematurely\n",
        "\n",
        "## break statement\n",
        "\n",
        "for i in range(10):\n",
        "    if i==5:\n",
        "        break\n",
        "    print(i)\n",
        ""
      ],
      "metadata": {
        "colab": {
          "base_uri": "https://localhost:8080/"
        },
        "id": "NfPr9zCa6MHl",
        "outputId": "f93d4674-27b6-4043-acbe-a3f686d7cc52"
      },
      "execution_count": 84,
      "outputs": [
        {
          "output_type": "stream",
          "name": "stdout",
          "text": [
            "0\n",
            "1\n",
            "2\n",
            "3\n",
            "4\n"
          ]
        }
      ]
    },
    {
      "cell_type": "code",
      "source": [
        "\n",
        "for i in range(10):\n",
        "    if i==5:\n",
        "        continue\n",
        "    print(i)"
      ],
      "metadata": {
        "colab": {
          "base_uri": "https://localhost:8080/"
        },
        "id": "PRoXLGRj6hDa",
        "outputId": "b7e49e2e-521d-4762-d0cf-cc1fae1081d2"
      },
      "execution_count": 85,
      "outputs": [
        {
          "output_type": "stream",
          "name": "stdout",
          "text": [
            "0\n",
            "1\n",
            "2\n",
            "3\n",
            "4\n",
            "6\n",
            "7\n",
            "8\n",
            "9\n"
          ]
        }
      ]
    },
    {
      "cell_type": "code",
      "source": [
        "## continue\n",
        "\n",
        "## The continue statement skips the current iteration and continues with the next.\n",
        "\n",
        "for i in range(10):\n",
        "    if i%2==0:\n",
        "        continue\n",
        "    print(i)\n",
        "\n",
        "\n"
      ],
      "metadata": {
        "colab": {
          "base_uri": "https://localhost:8080/"
        },
        "id": "4lOAb6iF6pPB",
        "outputId": "54dc5af4-be4b-4961-9663-8f4f1b6f5e62"
      },
      "execution_count": 89,
      "outputs": [
        {
          "output_type": "stream",
          "name": "stdout",
          "text": [
            "1\n",
            "3\n",
            "5\n",
            "7\n",
            "9\n"
          ]
        }
      ]
    },
    {
      "cell_type": "code",
      "source": [
        "## pass\n",
        "## The pass statement is a null operation; it does nothing.\n",
        "\n",
        "for i in range(5):\n",
        "    if i==3:\n",
        "        pass\n",
        "    print(i)\n"
      ],
      "metadata": {
        "colab": {
          "base_uri": "https://localhost:8080/"
        },
        "id": "uf_nX8sT6xiU",
        "outputId": "d698b9e6-a79e-43b6-c882-a44d1f9f08f6"
      },
      "execution_count": 90,
      "outputs": [
        {
          "output_type": "stream",
          "name": "stdout",
          "text": [
            "0\n",
            "1\n",
            "2\n",
            "3\n",
            "4\n"
          ]
        }
      ]
    },
    {
      "cell_type": "code",
      "source": [
        "if age>18:\n",
        "  pass\n",
        "else:\n",
        "  pass"
      ],
      "metadata": {
        "id": "f9lZJAwv7Mn_"
      },
      "execution_count": 91,
      "outputs": []
    },
    {
      "cell_type": "code",
      "source": [
        "# nested loops,\n",
        "# a loop inside a loop\n",
        "\n",
        "for i in range(3):\n",
        "    for j in range(2):\n",
        "        print(i,j)"
      ],
      "metadata": {
        "colab": {
          "base_uri": "https://localhost:8080/"
        },
        "id": "1LMcJfru7V3t",
        "outputId": "89b182fc-8d54-4bbf-f584-1ab868cd5b1b"
      },
      "execution_count": 92,
      "outputs": [
        {
          "output_type": "stream",
          "name": "stdout",
          "text": [
            "0 0\n",
            "0 1\n",
            "1 0\n",
            "1 1\n",
            "2 0\n",
            "2 1\n"
          ]
        }
      ]
    },
    {
      "cell_type": "code",
      "source": [
        "for i in range(3):\n",
        "    for j in range(5):\n",
        "        print(f\"i:{i} and j:{j}\")"
      ],
      "metadata": {
        "colab": {
          "base_uri": "https://localhost:8080/"
        },
        "id": "CwSnRamw7wbX",
        "outputId": "9ac3ce5e-e2f0-4221-f7ac-8da88993f980"
      },
      "execution_count": 94,
      "outputs": [
        {
          "output_type": "stream",
          "name": "stdout",
          "text": [
            "i:0 and j:0\n",
            "i:0 and j:1\n",
            "i:0 and j:2\n",
            "i:0 and j:3\n",
            "i:0 and j:4\n",
            "i:1 and j:0\n",
            "i:1 and j:1\n",
            "i:1 and j:2\n",
            "i:1 and j:3\n",
            "i:1 and j:4\n",
            "i:2 and j:0\n",
            "i:2 and j:1\n",
            "i:2 and j:2\n",
            "i:2 and j:3\n",
            "i:2 and j:4\n"
          ]
        }
      ]
    },
    {
      "cell_type": "code",
      "source": [
        "## Examples- Calculate the sum of first N natural numbers using a while and for loop\n",
        "\n",
        "## while loop\n",
        "\n",
        "\n",
        "## For Loop\n",
        "\n",
        "\n",
        "\n"
      ],
      "metadata": {
        "id": "wq92YdrV76Ue"
      },
      "execution_count": null,
      "outputs": []
    }
  ]
}