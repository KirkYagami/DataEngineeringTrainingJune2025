{
 "cells": [
  {
   "cell_type": "markdown",
   "id": "d6f51b3e",
   "metadata": {},
   "source": [
    "## 1. Introduction to Iterators\n",
    "\n",
    "### What is an Iterator?\n",
    "\n",
    "An iterator is an object that implements the iterator protocol, consisting of:\n",
    "\n",
    "- `__iter__()` method: Returns the iterator object itself\n",
    "- `__next__()` method: Returns the next item from the iterator\n",
    "\n",
    "### Why are Iterators Important in Data Engineering?\n",
    "\n",
    "- **Memory Efficiency**: Process large datasets without loading everything into memory\n",
    "- **Lazy Evaluation**: Compute values on-demand"
   ]
  },
  {
   "cell_type": "markdown",
   "id": "5836cfe9",
   "metadata": {},
   "source": [
    "res = [('name', age, salary, ),\n",
    "\n",
    "\n",
    "]\n",
    "\n",
    "res[0]"
   ]
  },
  {
   "cell_type": "code",
   "execution_count": null,
   "id": "72616f5f",
   "metadata": {},
   "outputs": [
    {
     "name": "stdout",
     "output_type": "stream",
     "text": [
      "List: [1, 2, 3, 4, 5]\n",
      "Iterator: <list_iterator object at 0x0000018763B7BE20>\n",
      "Next from iterator: 1\n",
      "Next from iterator: 2\n",
      "Next from iterator: 3\n",
      "Next from iterator: 4\n",
      "Next from iterator: 5\n"
     ]
    },
    {
     "ename": "StopIteration",
     "evalue": "",
     "output_type": "error",
     "traceback": [
      "\u001b[31m---------------------------------------------------------------------------\u001b[39m",
      "\u001b[31mStopIteration\u001b[39m                             Traceback (most recent call last)",
      "\u001b[36mCell\u001b[39m\u001b[36m \u001b[39m\u001b[32mIn[12]\u001b[39m\u001b[32m, line 13\u001b[39m\n\u001b[32m     10\u001b[39m \u001b[38;5;28mprint\u001b[39m(\u001b[33mf\u001b[39m\u001b[33m\"\u001b[39m\u001b[33mNext from iterator: \u001b[39m\u001b[38;5;132;01m{\u001b[39;00m\u001b[38;5;28mnext\u001b[39m(numbers_iter)\u001b[38;5;132;01m}\u001b[39;00m\u001b[33m\"\u001b[39m)\n\u001b[32m     11\u001b[39m \u001b[38;5;28mprint\u001b[39m(\u001b[33mf\u001b[39m\u001b[33m\"\u001b[39m\u001b[33mNext from iterator: \u001b[39m\u001b[38;5;132;01m{\u001b[39;00m\u001b[38;5;28mnext\u001b[39m(numbers_iter)\u001b[38;5;132;01m}\u001b[39;00m\u001b[33m\"\u001b[39m)\n\u001b[32m---> \u001b[39m\u001b[32m13\u001b[39m \u001b[38;5;28mprint\u001b[39m(\u001b[33mf\u001b[39m\u001b[33m\"\u001b[39m\u001b[33mNext from iterator: \u001b[39m\u001b[38;5;132;01m{\u001b[39;00m\u001b[38;5;28;43mnext\u001b[39;49m\u001b[43m(\u001b[49m\u001b[43mnumbers_iter\u001b[49m\u001b[43m)\u001b[49m\u001b[38;5;132;01m}\u001b[39;00m\u001b[33m\"\u001b[39m)\n",
      "\u001b[31mStopIteration\u001b[39m: "
     ]
    }
   ],
   "source": [
    "# Basic example: Understanding the difference\n",
    "numbers_list = [1, 2, 3, 4, 5]  # This is an iterable\n",
    "numbers_iter = iter(numbers_list)  # This is an iterator\n",
    "\n",
    "print(f\"List: {numbers_list}\")\n",
    "print(f\"Iterator: {numbers_iter}\")\n",
    "print(f\"Next from iterator: {next(numbers_iter)}\")\n",
    "print(f\"Next from iterator: {next(numbers_iter)}\")\n",
    "print(f\"Next from iterator: {next(numbers_iter)}\")\n",
    "print(f\"Next from iterator: {next(numbers_iter)}\")\n",
    "print(f\"Next from iterator: {next(numbers_iter)}\")\n",
    "\n",
    "# print(f\"Next from iterator: {next(numbers_iter)}\")\n"
   ]
  },
  {
   "cell_type": "markdown",
   "id": "19904d71",
   "metadata": {},
   "source": [
    "## 2. Iterables vs Iterators\n",
    "\n",
    "### Iterables\n",
    "\n",
    "Objects that can be iterated over (lists, tuples, strings, dictionaries, sets)"
   ]
  },
  {
   "cell_type": "code",
   "execution_count": 2,
   "id": "b76ddceb",
   "metadata": {},
   "outputs": [
    {
     "name": "stdout",
     "output_type": "stream",
     "text": [
      "1\n",
      "2\n",
      "3\n",
      "h\n",
      "e\n",
      "l\n",
      "l\n",
      "o\n",
      "a 1\n",
      "b 2\n"
     ]
    }
   ],
   "source": [
    "# Examples of iterables\n",
    "my_list = [1, 2, 3]\n",
    "my_string = \"hello\"\n",
    "my_dict = {'a': 1, 'b': 2}\n",
    "\n",
    "# All of these work in for loops\n",
    "for item in my_list:\n",
    "    print(item)\n",
    "\n",
    "for char in my_string:\n",
    "    print(char)\n",
    "\n",
    "for key in my_dict:\n",
    "    print(key, my_dict[key])"
   ]
  },
  {
   "cell_type": "markdown",
   "id": "1acba42e",
   "metadata": {},
   "source": [
    "### Testing if an object is iterable"
   ]
  },
  {
   "cell_type": "markdown",
   "id": "515cf656",
   "metadata": {},
   "source": []
  },
  {
   "cell_type": "code",
   "execution_count": 3,
   "id": "65384017",
   "metadata": {},
   "outputs": [
    {
     "name": "stdout",
     "output_type": "stream",
     "text": [
      "Object: [1, 2, 3]\n",
      "Is iterable: True\n",
      "Is iterator: False\n",
      "------------------------------\n",
      "Object: <list_iterator object at 0x000001876397F220>\n",
      "Is iterable: True\n",
      "Is iterator: True\n",
      "------------------------------\n",
      "Object: hello\n",
      "Is iterable: True\n",
      "Is iterator: False\n",
      "------------------------------\n",
      "Object: 42\n",
      "Is iterable: False\n",
      "Is iterator: False\n",
      "------------------------------\n"
     ]
    }
   ],
   "source": [
    "from collections.abc import Iterable, Iterator\n",
    "\n",
    "def check_iterable_iterator(obj):\n",
    "    print(f\"Object: {obj}\")\n",
    "    print(f\"Is iterable: {isinstance(obj, Iterable)}\")\n",
    "    print(f\"Is iterator: {isinstance(obj, Iterator)}\")\n",
    "    print(\"-\" * 30)\n",
    "\n",
    "# Test different objects\n",
    "check_iterable_iterator([1, 2, 3])\n",
    "check_iterable_iterator(iter([1, 2, 3]))\n",
    "check_iterable_iterator(\"hello\")\n",
    "check_iterable_iterator(42)"
   ]
  },
  {
   "cell_type": "markdown",
   "id": "05d3277a",
   "metadata": {},
   "source": [
    "## 3. The Iterator Protocol in Action\n",
    "\n",
    "### Manual iteration using next()"
   ]
  },
  {
   "cell_type": "code",
   "execution_count": 4,
   "id": "52b90aba",
   "metadata": {},
   "outputs": [
    {
     "name": "stdout",
     "output_type": "stream",
     "text": [
      "Processing: apple\n",
      "Processing: banana\n",
      "Processing: cherry\n",
      "Iteration complete!\n"
     ]
    }
   ],
   "source": [
    "# Creating an iterator from a list\n",
    "data = ['apple', 'banana', 'cherry']\n",
    "data_iter = iter(data)\n",
    "\n",
    "try:\n",
    "    while True:\n",
    "        item = next(data_iter)\n",
    "        print(f\"Processing: {item}\")\n",
    "except StopIteration:\n",
    "    print(\"Iteration complete!\")"
   ]
  },
  {
   "cell_type": "markdown",
   "id": "4b436969",
   "metadata": {},
   "source": [
    "### What happens in a for loop (behind the scenes)\n"
   ]
  },
  {
   "cell_type": "code",
   "execution_count": 5,
   "id": "94f5ed69",
   "metadata": {},
   "outputs": [
    {
     "name": "stdout",
     "output_type": "stream",
     "text": [
      "1\n",
      "2\n",
      "3\n",
      "1\n",
      "2\n",
      "3\n"
     ]
    }
   ],
   "source": [
    "# This for loop...\n",
    "for item in [1, 2, 3]:\n",
    "    print(item)\n",
    "\n",
    "# ...is equivalent to this:\n",
    "iterable = [1, 2, 3]\n",
    "iterator = iter(iterable)\n",
    "try:\n",
    "    while True:\n",
    "        item = next(iterator)\n",
    "        print(item)\n",
    "except StopIteration:\n",
    "    pass"
   ]
  },
  {
   "cell_type": "markdown",
   "id": "6255afa3",
   "metadata": {},
   "source": [
    "--- \n",
    "\n",
    "## HOW DOES `for` WORK?\n",
    "\n",
    "- Python’s `for` command iterates over an object using the **iterator protocol**\n",
    "- **Iterators** are objects used to iterate over an iterable\n",
    "- Iterators implement the iterator protocol\n",
    "- A `for` loop calls `iter()` on an iterable to create an iterator object\n",
    "- The iterator object is responsible for returning each item to the loop\n",
    "- A `for` loop calls `next()` on the iterator object to fetch each item\n",
    "- The `next()` function raises a `StopIteration` exception when there is nothing left in the iterator object\n",
    "\n",
    "\n",
    "Calling `iter()` on a list gives a list iterator object.\n",
    "The iterator object is responsible for returning each item to the loop.\n",
    "\n",
    "But why a separate object for iteration?\n",
    "- Because we got to track the current item to be returned somewhere and Python's answer to that is to store that information in an iterator object. \n",
    "- You want this to be distinct from the iterable because you could have multiple iterators attached to the same iterable at the same time.\n",
    "\n",
    "---\n"
   ]
  },
  {
   "cell_type": "markdown",
   "id": "8de46a75",
   "metadata": {},
   "source": [
    "\n",
    "\n",
    "## 4. Creating Custom Iterators\n",
    "\n",
    "### Method-1: Using a Class\n"
   ]
  },
  {
   "cell_type": "code",
   "execution_count": 14,
   "id": "f02e5dac",
   "metadata": {},
   "outputs": [
    {
     "name": "stdout",
     "output_type": "stream",
     "text": [
      "Custom NumberRange iterator:\n",
      "1\n",
      "2\n",
      "3\n",
      "4\n",
      "5\n",
      "6\n",
      "7\n",
      "8\n",
      "9\n"
     ]
    }
   ],
   "source": [
    "\n",
    "class NumberRange:\n",
    "    \"\"\"Custom iterator that generates numbers in a range\"\"\"\n",
    "    \n",
    "    def __init__(self, start, end, step=1):\n",
    "        self.start = start\n",
    "        self.end = end\n",
    "        self.step = step\n",
    "        self.current = start\n",
    "    \n",
    "    def __iter__(self):\n",
    "        return self\n",
    "    \n",
    "    def __next__(self):\n",
    "        if self.current >= self.end:\n",
    "            raise StopIteration\n",
    "        else:\n",
    "            current = self.current\n",
    "            self.current += self.step\n",
    "            return current\n",
    "\n",
    "# Using our custom iterator\n",
    "print(\"Custom NumberRange iterator:\")\n",
    "for num in NumberRange(1, 10):\n",
    "    print(num)"
   ]
  },
  {
   "cell_type": "code",
   "execution_count": 15,
   "id": "a2ecb11b",
   "metadata": {},
   "outputs": [
    {
     "name": "stdout",
     "output_type": "stream",
     "text": [
      "Line 1: ERROR: Database connection failed\n",
      "Line 2: INFO: Retrying connection\n",
      "Line 3: SUCCESS: Connected to database\n"
     ]
    }
   ],
   "source": [
    "class LogLineCounter:\n",
    "    \"\"\"Iterator that counts lines while reading a file\"\"\"\n",
    "    \n",
    "    def __init__(self, filename):\n",
    "        self.filename = filename\n",
    "        self.file = None\n",
    "        self.line_count = 0\n",
    "    \n",
    "    def __iter__(self):\n",
    "        self.file = open(self.filename, 'r')\n",
    "        self.line_count = 0\n",
    "        return self\n",
    "    \n",
    "    def __next__(self):\n",
    "        line = self.file.readline()\n",
    "        if line:\n",
    "            self.line_count += 1\n",
    "            return f\"Line {self.line_count}: {line.strip()}\"\n",
    "        else:\n",
    "            self.file.close()\n",
    "            raise StopIteration\n",
    "\n",
    "# Example usage (create a sample file first)\n",
    "with open('sample.log', 'w') as f:\n",
    "    f.write(\"ERROR: Database connection failed\\n\")\n",
    "    f.write(\"INFO: Retrying connection\\n\")\n",
    "    f.write(\"SUCCESS: Connected to database\\n\")\n",
    "\n",
    "# Use the iterator\n",
    "for line in LogLineCounter('sample.log'):\n",
    "    print(line)"
   ]
  },
  {
   "cell_type": "markdown",
   "id": "bc4fea77",
   "metadata": {},
   "source": [
    "### Method 2: Using Generator Functions (Recommended)\n"
   ]
  },
  {
   "cell_type": "code",
   "execution_count": 19,
   "id": "d159eaa9",
   "metadata": {},
   "outputs": [
    {
     "name": "stdout",
     "output_type": "stream",
     "text": [
      "0\n",
      "2\n",
      "4\n",
      "6\n",
      "8\n",
      "10\n",
      "12\n",
      "14\n",
      "16\n",
      "18\n"
     ]
    }
   ],
   "source": [
    "def number_range(start, end, step=1):\n",
    "    \"\"\"Generator function - much simpler than class-based iterator\"\"\"\n",
    "    current = start\n",
    "    while current < end:\n",
    "        yield current\n",
    "        current += step\n",
    "\n",
    "\n",
    "for num in number_range(0,20,2):\n",
    "    print(num)\n"
   ]
  },
  {
   "cell_type": "code",
   "execution_count": null,
   "id": "cf0a143f",
   "metadata": {},
   "outputs": [],
   "source": [
    "def add(a,b):\n",
    "    return a+b\n"
   ]
  },
  {
   "cell_type": "code",
   "execution_count": null,
   "id": "b4c7b16c",
   "metadata": {},
   "outputs": [
    {
     "name": "stdout",
     "output_type": "stream",
     "text": [
      "Generator function:\n",
      "1\n",
      "2\n",
      "3\n",
      "4\n",
      "5\n"
     ]
    }
   ],
   "source": [
    "def number_range(start, end, step=1):\n",
    "\n",
    "    \n",
    "    \"\"\"Generator function - much simpler than class-based iterator\"\"\"\n",
    "    current = start\n",
    "    while current < end:\n",
    "        yield current\n",
    "        current += step\n",
    "\n",
    "# Using the generator\n",
    "print(\"Generator function:\")\n",
    "for num in number_range(1, 6):\n",
    "    print(num)"
   ]
  },
  {
   "cell_type": "code",
   "execution_count": 10,
   "id": "a6ac5eda",
   "metadata": {},
   "outputs": [
    {
     "name": "stdout",
     "output_type": "stream",
     "text": [
      "Line 1: ['Alice', '25', 'New York']\n",
      "Line 2: ['Bob', '30', 'San Francisco']\n",
      "Line 3: ['Charlie', '35', 'Chicago']\n"
     ]
    }
   ],
   "source": [
    "\n",
    "# Data Engg Example: CSV Row Processor\n",
    "def process_csv_rows(filename, skip_header=True):\n",
    "    \"\"\"Generator that processes CSV rows one at a time\"\"\"\n",
    "    with open(filename, 'r') as file:\n",
    "        if skip_header:\n",
    "            next(file)  # Skip header row\n",
    "        \n",
    "        for line_num, line in enumerate(file, start=1):\n",
    "            # Process each row\n",
    "            row_data = line.strip().split(',')\n",
    "            yield {\n",
    "                'line_number': line_num,\n",
    "                'data': row_data,\n",
    "                'processed': True\n",
    "            }\n",
    "\n",
    "# Create sample CSV\n",
    "with open('sample.csv', 'w') as f:\n",
    "    f.write(\"name,age,city\\n\")\n",
    "    f.write(\"Alice,25,New York\\n\")\n",
    "    f.write(\"Bob,30,San Francisco\\n\")\n",
    "    f.write(\"Charlie,35,Chicago\\n\")\n",
    "\n",
    "# Process CSV using generator\n",
    "for row in process_csv_rows('sample.csv'):\n",
    "    print(f\"Line {row['line_number']}: {row['data']}\")"
   ]
  },
  {
   "cell_type": "markdown",
   "id": "d1fb18d6",
   "metadata": {},
   "source": []
  }
 ],
 "metadata": {
  "kernelspec": {
   "display_name": "Python 3",
   "language": "python",
   "name": "python3"
  },
  "language_info": {
   "codemirror_mode": {
    "name": "ipython",
    "version": 3
   },
   "file_extension": ".py",
   "mimetype": "text/x-python",
   "name": "python",
   "nbconvert_exporter": "python",
   "pygments_lexer": "ipython3",
   "version": "3.11.11"
  }
 },
 "nbformat": 4,
 "nbformat_minor": 5
}
