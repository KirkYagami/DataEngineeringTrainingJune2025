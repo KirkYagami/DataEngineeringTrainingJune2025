{
  "nbformat": 4,
  "nbformat_minor": 0,
  "metadata": {
    "colab": {
      "provenance": []
    },
    "kernelspec": {
      "name": "python3",
      "display_name": "Python 3"
    },
    "language_info": {
      "name": "python"
    }
  },
  "cells": [
    {
      "cell_type": "code",
      "execution_count": 2,
      "metadata": {
        "colab": {
          "base_uri": "https://localhost:8080/"
        },
        "id": "naflzzYD8DPs",
        "outputId": "0f5be633-72e5-436e-ceb7-212e26e52518"
      },
      "outputs": [
        {
          "output_type": "execute_result",
          "data": {
            "text/plain": [
              "15"
            ]
          },
          "metadata": {},
          "execution_count": 2
        }
      ],
      "source": [
        "def add(a,b):\n",
        "  return a+b\n",
        "\n",
        "add(10, 5)"
      ]
    },
    {
      "cell_type": "code",
      "source": [
        "def power(num, pow):\n",
        "  return num**pow\n",
        "\n",
        "\n",
        "\n"
      ],
      "metadata": {
        "id": "tkbeoddX9tlg"
      },
      "execution_count": 4,
      "outputs": []
    },
    {
      "cell_type": "code",
      "source": [
        "num = 5\n",
        "pow = 2\n",
        "power(num,pow)"
      ],
      "metadata": {
        "colab": {
          "base_uri": "https://localhost:8080/"
        },
        "id": "aEZTRBPs97nJ",
        "outputId": "33a8d222-e834-4eef-ee4d-b9305e1be66c"
      },
      "execution_count": 5,
      "outputs": [
        {
          "output_type": "execute_result",
          "data": {
            "text/plain": [
              "25"
            ]
          },
          "metadata": {},
          "execution_count": 5
        }
      ]
    },
    {
      "cell_type": "code",
      "source": [
        "power(num=num,pow=pow)"
      ],
      "metadata": {
        "colab": {
          "base_uri": "https://localhost:8080/"
        },
        "id": "nnkjXvQe-Ktn",
        "outputId": "fc52720d-c698-4cdc-a9c3-62dab718db6f"
      },
      "execution_count": 6,
      "outputs": [
        {
          "output_type": "execute_result",
          "data": {
            "text/plain": [
              "25"
            ]
          },
          "metadata": {},
          "execution_count": 6
        }
      ]
    },
    {
      "cell_type": "markdown",
      "source": [
        "#### Functions in Python\n",
        " Outline:\n",
        "1. Introduction to Functions\n",
        "2. Defining Functions\n",
        "3. Calling Functions\n",
        "4. Function Parameters\n",
        "5. Default Parameters\n",
        "6. Variable-Length Arguments\n",
        "7. Return Statement"
      ],
      "metadata": {
        "id": "mIPXgt8E-VP_"
      }
    },
    {
      "cell_type": "markdown",
      "source": [
        "##### Introduction to Functions\n",
        "Definition:\n",
        "\n",
        "A function is a block of code that performs a specific task.\n",
        "Functions help in organizing code, reusing code, and improving readability.\n",
        "\n"
      ],
      "metadata": {
        "id": "oMyuRzsK-Zh2"
      }
    },
    {
      "cell_type": "code",
      "source": [
        "'''\n",
        "## syntax\n",
        "\n",
        "def function_name(parameters):\n",
        "    \"\"\"Docstring\"\"\"\n",
        "    # Function body\n",
        "    return expression\n",
        "'''\n"
      ],
      "metadata": {
        "id": "5ZWnxSB2-QGc"
      },
      "execution_count": null,
      "outputs": []
    },
    {
      "cell_type": "code",
      "source": [
        "## why functions?\n",
        "num=24\n",
        "if num%2==0:\n",
        "    print(\"the number is even\")\n",
        "else:\n",
        "    print(\"the number is odd\")"
      ],
      "metadata": {
        "colab": {
          "base_uri": "https://localhost:8080/"
        },
        "id": "xRkr7PPN-1fP",
        "outputId": "77ae6b1a-8483-4fff-8807-7cc3b3f3ed97"
      },
      "execution_count": 7,
      "outputs": [
        {
          "output_type": "stream",
          "name": "stdout",
          "text": [
            "the number is even\n"
          ]
        }
      ]
    },
    {
      "cell_type": "code",
      "source": [
        "def even_or_odd(num):\n",
        "  \"\"\"\n",
        "  This function finds even or odd\n",
        "  \"\"\"\n",
        "  if num%2==0:\n",
        "    print(\"the number is even\")\n",
        "  else:\n",
        "    print(\"the number is odd\")\n"
      ],
      "metadata": {
        "id": "VjYw8Xk3-3eP"
      },
      "execution_count": 9,
      "outputs": []
    },
    {
      "cell_type": "code",
      "source": [
        "## Call this function\n",
        "even_or_odd(37)"
      ],
      "metadata": {
        "colab": {
          "base_uri": "https://localhost:8080/"
        },
        "id": "PM6fhI6A-6BX",
        "outputId": "b0f7edd5-ec31-4af1-e85f-9f1b9b6eb745"
      },
      "execution_count": 11,
      "outputs": [
        {
          "output_type": "stream",
          "name": "stdout",
          "text": [
            "the number is odd\n"
          ]
        }
      ]
    },
    {
      "cell_type": "code",
      "source": [
        "## function with multiple parameters\n",
        "\n",
        "def add(a,b):\n",
        "    return a+b\n",
        "\n",
        "result=add(2,4)\n",
        "print(result)"
      ],
      "metadata": {
        "colab": {
          "base_uri": "https://localhost:8080/"
        },
        "id": "EAwYtjq4-599",
        "outputId": "5cee298a-ae0e-4c3f-dbb4-fdef87a3768b"
      },
      "execution_count": 12,
      "outputs": [
        {
          "output_type": "stream",
          "name": "stdout",
          "text": [
            "6\n"
          ]
        }
      ]
    },
    {
      "cell_type": "code",
      "source": [
        "## Default Parameters\n",
        "\n",
        "def greet(name):\n",
        "    print(f\"Hello {name}, Welcome To the paradise\")\n",
        "\n",
        "greet()"
      ],
      "metadata": {
        "colab": {
          "base_uri": "https://localhost:8080/",
          "height": 181
        },
        "id": "lFUwSZ_X-57O",
        "outputId": "56a102c3-cbd5-47fa-9565-ad92dfe99a9b"
      },
      "execution_count": 14,
      "outputs": [
        {
          "output_type": "error",
          "ename": "TypeError",
          "evalue": "greet() missing 1 required positional argument: 'name'",
          "traceback": [
            "\u001b[0;31m---------------------------------------------------------------------------\u001b[0m",
            "\u001b[0;31mTypeError\u001b[0m                                 Traceback (most recent call last)",
            "\u001b[0;32m<ipython-input-14-e5bca14ab9e2>\u001b[0m in \u001b[0;36m<cell line: 0>\u001b[0;34m()\u001b[0m\n\u001b[1;32m      4\u001b[0m     \u001b[0mprint\u001b[0m\u001b[0;34m(\u001b[0m\u001b[0;34mf\"Hello {name}, Welcome To the paradise\"\u001b[0m\u001b[0;34m)\u001b[0m\u001b[0;34m\u001b[0m\u001b[0;34m\u001b[0m\u001b[0m\n\u001b[1;32m      5\u001b[0m \u001b[0;34m\u001b[0m\u001b[0m\n\u001b[0;32m----> 6\u001b[0;31m \u001b[0mgreet\u001b[0m\u001b[0;34m(\u001b[0m\u001b[0;34m)\u001b[0m\u001b[0;34m\u001b[0m\u001b[0;34m\u001b[0m\u001b[0m\n\u001b[0m",
            "\u001b[0;31mTypeError\u001b[0m: greet() missing 1 required positional argument: 'name'"
          ]
        }
      ]
    },
    {
      "cell_type": "code",
      "source": [
        "\n",
        "def greet(name='Default User'):\n",
        "    print(f\"Hello {name}, Welcome To the paradise\")\n",
        "\n",
        "greet()"
      ],
      "metadata": {
        "colab": {
          "base_uri": "https://localhost:8080/"
        },
        "id": "P1CtiHTm-54T",
        "outputId": "2a4e1eaf-099e-4ff4-fe9e-7b0b1b008397"
      },
      "execution_count": 16,
      "outputs": [
        {
          "output_type": "stream",
          "name": "stdout",
          "text": [
            "Hello Default User, Welcome To the paradise\n"
          ]
        }
      ]
    },
    {
      "cell_type": "code",
      "source": [
        "def greet(name):\n",
        "    print(f\"Hello {name}, Welcome to the paradise!\")\n",
        "\n",
        "greet(name= 'Krishna' )"
      ],
      "metadata": {
        "colab": {
          "base_uri": "https://localhost:8080/"
        },
        "id": "1FexjZwU-51C",
        "outputId": "baf18ad9-d83b-4781-b239-6bfc804933f3"
      },
      "execution_count": 20,
      "outputs": [
        {
          "output_type": "stream",
          "name": "stdout",
          "text": [
            "Hello Krishna, Welcome to the paradise!\n"
          ]
        }
      ]
    },
    {
      "cell_type": "code",
      "source": [
        "def greet(name, age):\n",
        "    print(f\"Hello {name}, Welcome to the paradise! You are {age} years old.\")\n",
        "\n",
        "greet(age=24,name='Someone')"
      ],
      "metadata": {
        "colab": {
          "base_uri": "https://localhost:8080/"
        },
        "id": "wnsbd2iq-5x7",
        "outputId": "1a5128b0-0d58-4ced-ba30-183b5ddcc091"
      },
      "execution_count": 26,
      "outputs": [
        {
          "output_type": "stream",
          "name": "stdout",
          "text": [
            "Hello Someone, Welcome to the paradise! You are 24 years old.\n"
          ]
        }
      ]
    },
    {
      "cell_type": "code",
      "source": [
        "def greet(name, age=24):\n",
        "    print(f\"Hello {name}, Welcome to the paradise! You are {age} years old.\")\n"
      ],
      "metadata": {
        "id": "0lJh8vV3-5vf"
      },
      "execution_count": 30,
      "outputs": []
    },
    {
      "cell_type": "code",
      "source": [
        "\n",
        "greet(age=24,name='Someone')"
      ],
      "metadata": {
        "colab": {
          "base_uri": "https://localhost:8080/"
        },
        "id": "fNHBkj2mBLWf",
        "outputId": "600abe59-3a52-4baf-f3b7-b2c135eebfd3"
      },
      "execution_count": 31,
      "outputs": [
        {
          "output_type": "stream",
          "name": "stdout",
          "text": [
            "Hello Someone, Welcome to the paradise! You are 24 years old.\n"
          ]
        }
      ]
    },
    {
      "cell_type": "code",
      "source": [
        "### Variable Length Arguments\n",
        "## Positional And Keywords arguments\n",
        "\n",
        "\n",
        "def print_numbers(*args):\n",
        "  print(type(args))\n",
        "  print(args)\n",
        "  for number in args:\n",
        "      print(number)\n",
        "\n",
        "\n",
        "print_numbers(1,2,3,4,5,6,7,8,\"Nikhil\")"
      ],
      "metadata": {
        "colab": {
          "base_uri": "https://localhost:8080/"
        },
        "id": "eXU16hC3BcaI",
        "outputId": "bb0a536f-d42c-4427-eae4-05d19f32071e"
      },
      "execution_count": 37,
      "outputs": [
        {
          "output_type": "stream",
          "name": "stdout",
          "text": [
            "<class 'tuple'>\n",
            "(1, 2, 3, 4, 5, 6, 7, 8, 'Nikhil')\n",
            "1\n",
            "2\n",
            "3\n",
            "4\n",
            "5\n",
            "6\n",
            "7\n",
            "8\n",
            "Nikhil\n"
          ]
        }
      ]
    },
    {
      "cell_type": "code",
      "source": [
        "def add(a,b):\n",
        "  return a+b\n",
        "\n",
        "add(2,3)"
      ],
      "metadata": {
        "colab": {
          "base_uri": "https://localhost:8080/"
        },
        "id": "XkfRyXVxCDWw",
        "outputId": "ee132f1a-a971-4842-caec-ec8ea6c6eef5"
      },
      "execution_count": 33,
      "outputs": [
        {
          "output_type": "execute_result",
          "data": {
            "text/plain": [
              "5"
            ]
          },
          "metadata": {},
          "execution_count": 33
        }
      ]
    },
    {
      "cell_type": "code",
      "source": [
        "def add(a,b, c, d, e):\n",
        "  return a+b+c+d+e\n",
        "\n",
        "add(2,3,1,4,5)"
      ],
      "metadata": {
        "colab": {
          "base_uri": "https://localhost:8080/"
        },
        "id": "TjW4Lw9GCRSd",
        "outputId": "6b0c7f10-28cd-4d95-f109-1ca0d9d56b31"
      },
      "execution_count": 34,
      "outputs": [
        {
          "output_type": "execute_result",
          "data": {
            "text/plain": [
              "15"
            ]
          },
          "metadata": {},
          "execution_count": 34
        }
      ]
    },
    {
      "cell_type": "code",
      "source": [
        "def add(*nums):\n",
        "  return sum(nums)\n",
        "\n",
        "add(1,2,4,5,6,7,8)"
      ],
      "metadata": {
        "colab": {
          "base_uri": "https://localhost:8080/"
        },
        "id": "raAeyZ8uCZYy",
        "outputId": "aaff5d4e-9f73-4690-fb7d-6456f32153a4"
      },
      "execution_count": 36,
      "outputs": [
        {
          "output_type": "execute_result",
          "data": {
            "text/plain": [
              "33"
            ]
          },
          "metadata": {},
          "execution_count": 36
        }
      ]
    },
    {
      "cell_type": "code",
      "source": [
        "\n",
        "\"\"\"\n",
        "This is where *args can be really useful, because it allows you to pass a\n",
        "varying number of positional arguments. Take the following example:\n",
        "\"\"\"\n",
        "\n",
        "def my_sum(*args):\n",
        "    result = 0\n",
        "    # Iterating over the Python args tuple\n",
        "    for x in args:\n",
        "        result += x\n",
        "    return result\n",
        "\n",
        "print(my_sum(1, 2, 3))"
      ],
      "metadata": {
        "colab": {
          "base_uri": "https://localhost:8080/"
        },
        "id": "wzkdM8kICubo",
        "outputId": "bc44cfcb-3e85-4a7c-e21d-4818fa810aa9"
      },
      "execution_count": 38,
      "outputs": [
        {
          "output_type": "stream",
          "name": "stdout",
          "text": [
            "6\n"
          ]
        }
      ]
    },
    {
      "cell_type": "code",
      "source": [
        "### Keywords Arguments\n",
        "\n",
        "def print_details(**kwargs):\n",
        "  print(type(kwargs))\n",
        "  print(kwargs)\n",
        "  for key, value in kwargs.items():\n",
        "    print(f\"{key}: {value}\")\n",
        "\n",
        "\n",
        "print_details(name=\"Nikhil\", age=24, city=\"Bangalore\")\n"
      ],
      "metadata": {
        "colab": {
          "base_uri": "https://localhost:8080/"
        },
        "id": "0U3JS_ajDKYX",
        "outputId": "7ed03adc-cdc0-4632-931d-e8d5afac9230"
      },
      "execution_count": 39,
      "outputs": [
        {
          "output_type": "stream",
          "name": "stdout",
          "text": [
            "<class 'dict'>\n",
            "{'name': 'Nikhil', 'age': 24, 'city': 'Bangalore'}\n",
            "name: Nikhil\n",
            "age: 24\n",
            "city: Bangalore\n"
          ]
        }
      ]
    },
    {
      "cell_type": "code",
      "source": [
        "\n",
        "def print_details(**details):\n",
        "    for key, value in details.items():\n",
        "        print(f\"{key}: {value}\")\n",
        "\n",
        "print_details()"
      ],
      "metadata": {
        "colab": {
          "base_uri": "https://localhost:8080/"
        },
        "id": "c5a6_F2hDoC2",
        "outputId": "bfe41bb0-a95f-4dd2-8d97-01a069a9029f"
      },
      "execution_count": 42,
      "outputs": [
        {
          "output_type": "stream",
          "name": "stdout",
          "text": [
            "name: Nikhil\n",
            "age: 24\n",
            "city: Bangalore\n",
            "country: India\n"
          ]
        }
      ]
    },
    {
      "cell_type": "code",
      "source": [
        "studeent_details = {\n",
        "    \"name\": \"Nikhil\",\n",
        "    \"age\": 24,\n",
        "    \"city\": \"Bangalore\"\n",
        "}\n",
        "\n",
        "print_details(**studeent_details)"
      ],
      "metadata": {
        "colab": {
          "base_uri": "https://localhost:8080/"
        },
        "id": "fLcYzEHdEEzu",
        "outputId": "22c96ab9-c531-4c25-a75a-505e759d4f5e"
      },
      "execution_count": 43,
      "outputs": [
        {
          "output_type": "stream",
          "name": "stdout",
          "text": [
            "name: Nikhil\n",
            "age: 24\n",
            "city: Bangalore\n"
          ]
        }
      ]
    },
    {
      "cell_type": "markdown",
      "source": [
        "### Side Note on  :Unpacking With the Asterisk Operators: * & **"
      ],
      "metadata": {
        "id": "2nj9Ri_nE9bs"
      }
    },
    {
      "cell_type": "markdown",
      "source": [
        "The unpacking operators are operators that unpack the values from iterable objects in Python. The single asterisk operator * can be used on any iterable that Python provides, while the double asterisk operator ** can only be used on dictionaries."
      ],
      "metadata": {
        "id": "gCW7gK7xFFEj"
      }
    },
    {
      "cell_type": "code",
      "source": [
        "\"\"\"\n",
        "When you use the * operator to unpack a list and pass arguments to a function, it’s exactly as though you’re passing every single argument alone. This means that you can use multiple unpacking operators to get values from several lists and pass them all to a single function.\n",
        "\"\"\"\n",
        "\n",
        "def my_sum(*args):\n",
        "    result = 0\n",
        "    for x in args:\n",
        "        result += x\n",
        "    return result\n",
        "\n",
        "list1 = [1, 2, 3]\n",
        "list2 = [4, 5]\n",
        "list3 = [6, 7, 8, 9]\n",
        "\n",
        "print(my_sum(*list1, *list2, *list3))"
      ],
      "metadata": {
        "colab": {
          "base_uri": "https://localhost:8080/"
        },
        "id": "sDnz446PE3Zu",
        "outputId": "549766d8-55ca-4320-a6e7-9783688e6ec7"
      },
      "execution_count": 44,
      "outputs": [
        {
          "output_type": "stream",
          "name": "stdout",
          "text": [
            "45\n"
          ]
        }
      ]
    },
    {
      "cell_type": "code",
      "source": [
        "my_list = [1, 2, 3, 4, 5, 6]\n",
        "\n",
        "a, *b, c = my_list # The first variable is assigned to a, the last to c, and all other values are packed into a new list b.\n",
        "\n",
        "print(a)\n",
        "print(b)\n",
        "print(c)"
      ],
      "metadata": {
        "colab": {
          "base_uri": "https://localhost:8080/"
        },
        "id": "PUOvWjdpFMUH",
        "outputId": "d9ea496e-b21b-499c-ad03-34c5264c7794"
      },
      "execution_count": 45,
      "outputs": [
        {
          "output_type": "stream",
          "name": "stdout",
          "text": [
            "1\n",
            "[2, 3, 4, 5]\n",
            "6\n"
          ]
        }
      ]
    },
    {
      "cell_type": "code",
      "source": [
        "my_first_list = [1, 2, 3]\n",
        "my_second_list = [4, 5, 6]\n",
        "my_merged_list = [*my_first_list, *my_second_list] # The unpacking operator * is prepended to both my_first_list and my_second_list.\n",
        "\n",
        "print(my_merged_list)"
      ],
      "metadata": {
        "colab": {
          "base_uri": "https://localhost:8080/"
        },
        "id": "EnZ25m4LFOta",
        "outputId": "541da21a-26dd-45b6-afcf-615f40251857"
      },
      "execution_count": 46,
      "outputs": [
        {
          "output_type": "stream",
          "name": "stdout",
          "text": [
            "[1, 2, 3, 4, 5, 6]\n"
          ]
        }
      ]
    },
    {
      "cell_type": "code",
      "source": [
        "\n",
        "## You can even merge two different dictionaries by using the unpacking operator **:\n",
        "my_first_dict = {\"A\": 1, \"B\": 2}\n",
        "my_second_dict = {\"C\": 3, \"D\": 4}\n",
        "my_merged_dict = {**my_first_dict, **my_second_dict}\n",
        "\n",
        "print(my_merged_dict)"
      ],
      "metadata": {
        "colab": {
          "base_uri": "https://localhost:8080/"
        },
        "id": "ecCGFSLHFQmx",
        "outputId": "ec0539be-60b4-4c8a-aece-b37247a54aca"
      },
      "execution_count": 47,
      "outputs": [
        {
          "output_type": "stream",
          "name": "stdout",
          "text": [
            "{'A': 1, 'B': 2, 'C': 3, 'D': 4}\n"
          ]
        }
      ]
    },
    {
      "cell_type": "markdown",
      "source": [
        "#### Functions Examples\n",
        "#### Example 1: Temperature Conversion\n"
      ],
      "metadata": {
        "id": "Q7FzqxCsFeDz"
      }
    },
    {
      "cell_type": "code",
      "source": [
        "def convert_temperature(temp,unit):\n",
        "    \"\"\"This function converts temperature between Celsius and Fahrenheit\"\"\"\n",
        "    if unit=='C':\n",
        "        return temp * 9/5 + 32  ## Celsius To Fahrenheit\n",
        "    elif unit==\"F\":\n",
        "        return (temp-32)*5/9 ## Fahrenheit to celsius\n",
        "    else:\n",
        "        return None\n"
      ],
      "metadata": {
        "id": "RLOeC-8ZFSb2"
      },
      "execution_count": 49,
      "outputs": []
    },
    {
      "cell_type": "code",
      "source": [
        "convert_temperature(100,'F')"
      ],
      "metadata": {
        "colab": {
          "base_uri": "https://localhost:8080/"
        },
        "id": "r2FXABPVFphc",
        "outputId": "ab133277-bae1-4a6d-828e-446ab4f38340"
      },
      "execution_count": 52,
      "outputs": [
        {
          "output_type": "execute_result",
          "data": {
            "text/plain": [
              "37.77777777777778"
            ]
          },
          "metadata": {},
          "execution_count": 52
        }
      ]
    },
    {
      "cell_type": "code",
      "source": [
        "##### Example 2: Password Strength Checker\n",
        "def is_strong_password(password):\n",
        "    \"\"\"This function checks if the password is strong or not\"\"\"\n",
        "    pass\n"
      ],
      "metadata": {
        "id": "_MfESIFoF06y"
      },
      "execution_count": 53,
      "outputs": []
    },
    {
      "cell_type": "code",
      "source": [],
      "metadata": {
        "id": "D5C69_RIGEr1"
      },
      "execution_count": null,
      "outputs": []
    },
    {
      "cell_type": "code",
      "source": [
        "##### Example 3: Check IF a String Is Palindrome\n",
        "def is_palindrome(s):\n",
        "  pass\n"
      ],
      "metadata": {
        "id": "PWX68QXzF_uH"
      },
      "execution_count": 54,
      "outputs": []
    },
    {
      "cell_type": "markdown",
      "source": [
        "##### Lambda Functions in Python\n",
        "Lambda functions are small anonymous functions defined using the **lambda** keyword. They can have any number of arguments but only one expression. They are commonly used for short operations or as arguments to higher-order functions."
      ],
      "metadata": {
        "id": "c8I_qdfsGbwc"
      }
    },
    {
      "cell_type": "code",
      "source": [
        "#Syntax\n",
        "'''\n",
        "lambda arguments: expression\n",
        "\n",
        "'''"
      ],
      "metadata": {
        "colab": {
          "base_uri": "https://localhost:8080/",
          "height": 36
        },
        "id": "FDnwmX8YGHrG",
        "outputId": "0a5ee942-9571-4534-cc28-02c4c7f370c7"
      },
      "execution_count": 55,
      "outputs": [
        {
          "output_type": "execute_result",
          "data": {
            "text/plain": [
              "'\\nlambda arguments: expression\\n\\n'"
            ],
            "application/vnd.google.colaboratory.intrinsic+json": {
              "type": "string"
            }
          },
          "metadata": {},
          "execution_count": 55
        }
      ]
    },
    {
      "cell_type": "code",
      "source": [
        "def addition(a,b):\n",
        "    return a+b\n",
        "\n",
        ""
      ],
      "metadata": {
        "id": "-5qJIYcgGvIR"
      },
      "execution_count": 56,
      "outputs": []
    },
    {
      "cell_type": "code",
      "source": [
        "addition(2,3)"
      ],
      "metadata": {
        "colab": {
          "base_uri": "https://localhost:8080/"
        },
        "id": "g58kttQMGy8i",
        "outputId": "73a3b143-935a-4d62-ccd3-24ad8fae627a"
      },
      "execution_count": 57,
      "outputs": [
        {
          "output_type": "execute_result",
          "data": {
            "text/plain": [
              "5"
            ]
          },
          "metadata": {},
          "execution_count": 57
        }
      ]
    },
    {
      "cell_type": "code",
      "source": [
        "add = lambda a,b : a+b\n",
        "\n",
        "add(6,9)"
      ],
      "metadata": {
        "colab": {
          "base_uri": "https://localhost:8080/"
        },
        "id": "rEFQd4RQG0Sm",
        "outputId": "a1a46946-a892-40c3-a2b6-bb46fbd4f0ef"
      },
      "execution_count": 58,
      "outputs": [
        {
          "output_type": "execute_result",
          "data": {
            "text/plain": [
              "15"
            ]
          },
          "metadata": {},
          "execution_count": 58
        }
      ]
    },
    {
      "cell_type": "code",
      "source": [
        "power = lambda x,y: x**y\n",
        "\n",
        "power(9,2)"
      ],
      "metadata": {
        "colab": {
          "base_uri": "https://localhost:8080/"
        },
        "id": "WUqJHK9mHCVY",
        "outputId": "96d0283a-f269-4bc9-aeac-65b37dc1f158"
      },
      "execution_count": 59,
      "outputs": [
        {
          "output_type": "execute_result",
          "data": {
            "text/plain": [
              "81"
            ]
          },
          "metadata": {},
          "execution_count": 59
        }
      ]
    },
    {
      "cell_type": "code",
      "source": [
        "type(addition)"
      ],
      "metadata": {
        "colab": {
          "base_uri": "https://localhost:8080/"
        },
        "id": "kzzKJgOPHLzL",
        "outputId": "546572d3-30cc-42ce-e11a-27baecaaa565"
      },
      "execution_count": 61,
      "outputs": [
        {
          "output_type": "execute_result",
          "data": {
            "text/plain": [
              "function"
            ]
          },
          "metadata": {},
          "execution_count": 61
        }
      ]
    },
    {
      "cell_type": "code",
      "source": [
        "addition=lambda a,b:a+b\n",
        "print(type(addition))\n",
        "print(addition(5,6))"
      ],
      "metadata": {
        "colab": {
          "base_uri": "https://localhost:8080/"
        },
        "id": "GQFqL7X_HRMY",
        "outputId": "a10d221b-bcf6-489a-efa7-340e0680ca02"
      },
      "execution_count": 63,
      "outputs": [
        {
          "output_type": "stream",
          "name": "stdout",
          "text": [
            "<class 'function'>\n",
            "11\n"
          ]
        }
      ]
    },
    {
      "cell_type": "code",
      "source": [
        "def is_even(num):\n",
        "    if num%2==0:\n",
        "        return True\n",
        "    else:\n",
        "      return False\n",
        "is_even(31)"
      ],
      "metadata": {
        "colab": {
          "base_uri": "https://localhost:8080/"
        },
        "id": "1rtEWmzmHlfi",
        "outputId": "8c758ebb-1315-4478-d59a-9b142529f0bd"
      },
      "execution_count": 67,
      "outputs": [
        {
          "output_type": "execute_result",
          "data": {
            "text/plain": [
              "False"
            ]
          },
          "metadata": {},
          "execution_count": 67
        }
      ]
    },
    {
      "cell_type": "code",
      "source": [
        "even1=lambda num:num%2==0\n",
        "even1(31)"
      ],
      "metadata": {
        "colab": {
          "base_uri": "https://localhost:8080/"
        },
        "id": "jwnUMhJAH0eS",
        "outputId": "96040962-d939-466e-8464-25a72e2eaeb9"
      },
      "execution_count": 68,
      "outputs": [
        {
          "output_type": "execute_result",
          "data": {
            "text/plain": [
              "False"
            ]
          },
          "metadata": {},
          "execution_count": 68
        }
      ]
    },
    {
      "cell_type": "code",
      "source": [
        "addition1=lambda x,y,z:x+y+z\n",
        "addition1(12,13,14)"
      ],
      "metadata": {
        "id": "kmut__sLH4Qt"
      },
      "execution_count": 70,
      "outputs": []
    },
    {
      "cell_type": "code",
      "source": [
        "addition1=lambda lst:max(lst)\n",
        "addition1([12,13,14])"
      ],
      "metadata": {
        "colab": {
          "base_uri": "https://localhost:8080/"
        },
        "id": "ASeddXkqI3xV",
        "outputId": "27cbca01-b17d-4892-cac9-2b50636a6358"
      },
      "execution_count": 73,
      "outputs": [
        {
          "output_type": "execute_result",
          "data": {
            "text/plain": [
              "14"
            ]
          },
          "metadata": {},
          "execution_count": 73
        }
      ]
    },
    {
      "cell_type": "code",
      "source": [
        "nums = [1,2,3,4,5,6]\n",
        "evens = [i for i in nums if i%2==0]\n",
        "evens"
      ],
      "metadata": {
        "colab": {
          "base_uri": "https://localhost:8080/"
        },
        "id": "XqOZguDbINr4",
        "outputId": "fa61434c-d6be-4f4d-f694-2106754a4bdc"
      },
      "execution_count": 71,
      "outputs": [
        {
          "output_type": "execute_result",
          "data": {
            "text/plain": [
              "[2, 4, 6]"
            ]
          },
          "metadata": {},
          "execution_count": 71
        }
      ]
    },
    {
      "cell_type": "code",
      "source": [
        "a = [1,2,3,4,5]\n",
        "b = [1,2,3,4,5]\n",
        "\n",
        "c = [i+j for i,j in zip(a,b)]\n",
        "c"
      ],
      "metadata": {
        "colab": {
          "base_uri": "https://localhost:8080/"
        },
        "id": "WDP93lIRIoPh",
        "outputId": "477697b7-db71-46cd-8371-c84c566ad501"
      },
      "execution_count": 74,
      "outputs": [
        {
          "output_type": "execute_result",
          "data": {
            "text/plain": [
              "[2, 4, 6, 8, 10]"
            ]
          },
          "metadata": {},
          "execution_count": 74
        }
      ]
    },
    {
      "cell_type": "code",
      "source": [
        "result = []\n",
        "for i in range(min(len(a), len(b))):\n",
        "  result.append(a[i]+b[i])\n",
        "result"
      ],
      "metadata": {
        "colab": {
          "base_uri": "https://localhost:8080/"
        },
        "id": "cA5mcoAdJlLK",
        "outputId": "336e4609-7030-425e-cbe8-d8b35a80d6c5"
      },
      "execution_count": 76,
      "outputs": [
        {
          "output_type": "execute_result",
          "data": {
            "text/plain": [
              "[2, 4, 6, 8, 10]"
            ]
          },
          "metadata": {},
          "execution_count": 76
        }
      ]
    },
    {
      "cell_type": "markdown",
      "source": [
        "#### The map() Function in Python\n",
        "The map() function applies a given function to all items in an input list (or any other iterable) and returns a map object (an iterator). This is particularly useful for transforming data in a list comprehensively."
      ],
      "metadata": {
        "id": "nhz-1BUfKJq9"
      }
    },
    {
      "cell_type": "code",
      "source": [
        "def square(x):\n",
        "    return x*x\n",
        "\n",
        "square(10)"
      ],
      "metadata": {
        "colab": {
          "base_uri": "https://localhost:8080/"
        },
        "id": "rTF0Z08YJ4MQ",
        "outputId": "8f702445-4c6c-4f92-9a54-430ceef0f5f9"
      },
      "execution_count": 77,
      "outputs": [
        {
          "output_type": "execute_result",
          "data": {
            "text/plain": [
              "100"
            ]
          },
          "metadata": {},
          "execution_count": 77
        }
      ]
    },
    {
      "cell_type": "code",
      "source": [
        "numbers=[1,2,3,4,5,6,7,8]\n",
        "\n",
        "list(map(square,numbers))\n"
      ],
      "metadata": {
        "colab": {
          "base_uri": "https://localhost:8080/"
        },
        "id": "UhtjoqoFKYxc",
        "outputId": "ee3e1ec4-b01c-4f3f-bf97-254ad2d903cc"
      },
      "execution_count": 79,
      "outputs": [
        {
          "output_type": "execute_result",
          "data": {
            "text/plain": [
              "[1, 4, 9, 16, 25, 36, 49, 64]"
            ]
          },
          "metadata": {},
          "execution_count": 79
        }
      ]
    },
    {
      "cell_type": "code",
      "source": [
        "## map() to convert a list of strings to integers\n",
        "# Use map to convert strings to integers\n",
        "str_numbers = ['1', '2', '3', '4', '5']\n",
        "int_numbers = list(map(int, str_numbers))\n",
        "\n",
        "\n",
        "print(int_numbers)  # Output: [1, 2, 3, 4, 5]\n"
      ],
      "metadata": {
        "colab": {
          "base_uri": "https://localhost:8080/"
        },
        "id": "TgMys-4oKkQG",
        "outputId": "10dcf3b6-6390-402f-a55d-b63aea45344c"
      },
      "execution_count": 80,
      "outputs": [
        {
          "output_type": "stream",
          "name": "stdout",
          "text": [
            "[1, 2, 3, 4, 5]\n"
          ]
        }
      ]
    },
    {
      "cell_type": "code",
      "source": [
        "words=['apple','banana','cherry']\n",
        "upper_word=list(map(str.upper,words))\n",
        "print(upper_word)"
      ],
      "metadata": {
        "colab": {
          "base_uri": "https://localhost:8080/"
        },
        "id": "TY42FpVrKvNE",
        "outputId": "b5741b29-1607-4f99-9aa9-81186e1beb57"
      },
      "execution_count": 81,
      "outputs": [
        {
          "output_type": "stream",
          "name": "stdout",
          "text": [
            "['APPLE', 'BANANA', 'CHERRY']\n"
          ]
        }
      ]
    },
    {
      "cell_type": "markdown",
      "source": [
        "##### The filter() Function in Python\n",
        "The filter() function constructs an iterator from elements of an iterable for which a function returns true. It is used to filter out items from a list (or any other iterable) based on a condition."
      ],
      "metadata": {
        "id": "rUKZu0V8K7kz"
      }
    },
    {
      "cell_type": "code",
      "source": [
        "def even(num):\n",
        "    if num%2==0:\n",
        "        return True"
      ],
      "metadata": {
        "id": "La4GkV_VK1KP"
      },
      "execution_count": 82,
      "outputs": []
    },
    {
      "cell_type": "code",
      "source": [
        "even(24)\n"
      ],
      "metadata": {
        "colab": {
          "base_uri": "https://localhost:8080/"
        },
        "id": "r_7DcMHZLHRT",
        "outputId": "95a622c9-fd73-483e-aa2c-188390f2db05"
      },
      "execution_count": 83,
      "outputs": [
        {
          "output_type": "execute_result",
          "data": {
            "text/plain": [
              "True"
            ]
          },
          "metadata": {},
          "execution_count": 83
        }
      ]
    },
    {
      "cell_type": "code",
      "source": [
        "lst=[1,2,3,4,5,6,7,8,9,10,11,12]\n",
        "\n",
        "list(filter(even, lst))"
      ],
      "metadata": {
        "colab": {
          "base_uri": "https://localhost:8080/"
        },
        "id": "yapzNG5oLKRy",
        "outputId": "b35da542-d3bb-4c72-a96a-848028d573c7"
      },
      "execution_count": 85,
      "outputs": [
        {
          "output_type": "execute_result",
          "data": {
            "text/plain": [
              "[2, 4, 6, 8, 10, 12]"
            ]
          },
          "metadata": {},
          "execution_count": 85
        }
      ]
    },
    {
      "cell_type": "code",
      "source": [
        "## Filter with a lambda function and multiple conditions\n",
        "numbers=[1,2,3,4,5,6,7,8,9]\n",
        "even_and_greater_than_five=list(filter(lambda x:x>5 and x%2==0,numbers))\n",
        "print(even_and_greater_than_five)"
      ],
      "metadata": {
        "colab": {
          "base_uri": "https://localhost:8080/"
        },
        "id": "wSiEHOEYLQZJ",
        "outputId": "c05591af-c308-40dc-ac6e-7bbdfcfc5db2"
      },
      "execution_count": 87,
      "outputs": [
        {
          "output_type": "stream",
          "name": "stdout",
          "text": [
            "[6, 8]\n"
          ]
        }
      ]
    },
    {
      "cell_type": "code",
      "source": [
        "## Learn reduce function in python"
      ],
      "metadata": {
        "id": "mHqBpYxSLeq1"
      },
      "execution_count": null,
      "outputs": []
    },
    {
      "cell_type": "markdown",
      "source": [
        "---"
      ],
      "metadata": {
        "id": "TDMJYDO2MWEX"
      }
    },
    {
      "cell_type": "markdown",
      "source": [
        "#### File Operation- Read And Write Files\n",
        "\n",
        "File handling is a crucial part of any programming language. Python provides built-in functions and methods to read from and write to files, both text and binary. This lesson will cover the basics of file handling, including reading and writing text files and binary files."
      ],
      "metadata": {
        "id": "um6ndYSXMV-s"
      }
    },
    {
      "cell_type": "code",
      "source": [
        "file = open(\"/opt/google/drive/drive-filter.py\", 'r')\n",
        "content = file.read()\n",
        "\n",
        "print(content)\n",
        "\n",
        "file.close()"
      ],
      "metadata": {
        "colab": {
          "base_uri": "https://localhost:8080/"
        },
        "id": "-L7uLErnMYnI",
        "outputId": "0fa5cc17-ca60-4589-cfd3-f133ae25ab21"
      },
      "execution_count": 88,
      "outputs": [
        {
          "output_type": "stream",
          "name": "stdout",
          "text": [
            "\"\"\"Picks error messages out of drive logs for surfacing to users.\"\"\"\n",
            "\n",
            "import json\n",
            "import re\n",
            "import sys\n",
            "\n",
            "if len(sys.argv) != 1:\n",
            "  print(f'Usage: {sys.argv[0]} (send drive logs on stdin)')\n",
            "  sys.exit(1)\n",
            "\n",
            "# LINT.IfChange(drivetimeout)\n",
            "timeout_pattern = 'QueryManager timed out'\n",
            "# LINT.ThenChange()\n",
            "\n",
            "log_prefix_re = re.compile(\n",
            "    r'^([0-9]{4}-[0-9]{2}-[0-9]{2}T[0-9]{2}:[0-9]{2}:[0-9]{2}\\.[0-9]{3}Z[IWEF]) '\n",
            ")\n",
            "\n",
            "suppressed_errors = (\n",
            "    # Internal errors, should be silently retried inside DriveFS.\n",
            "    'internalError Internal Error',\n",
            "    'conflict File ID already exists',\n",
            "    'deadlineExceeded A deadline was exceeded',\n",
            "    'transientError Transient failure',\n",
            "\n",
            "    # User-triggerable & surfaced as specific errors (EACCESS, ENOENT, etc).\n",
            "    'conditionNotMet Precondition Failed',\n",
            "    'authError Invalid Credentials',\n",
            "    'forbidden File not mutable',\n",
            "    'forbidden Insufficient permissions for this file',\n",
            "    'notFound File not found',\n",
            ")\n",
            "\n",
            "acc = ''\n",
            "last_stamp = ''\n",
            "for line in sys.stdin:\n",
            "  if not acc:\n",
            "    if timeout_pattern in line:\n",
            "      print(line, end='', flush=True)\n",
            "      continue\n",
            "    maybe_stamp = log_prefix_re.match(line)\n",
            "    if maybe_stamp:\n",
            "      last_stamp = maybe_stamp.group(1)\n",
            "  # pylint: disable=line-too-long\n",
            "  # An example logged value is:\n",
            "  # 2021-03-23T15:58:56.231ZE [201:core_117860867942433405545] drive_v2_cloud_store.cc:424242:FAKE FAKE FAKE\n",
            "  # {\n",
            "  #  \"error\": {\n",
            "  #   \"errors\": [\n",
            "  #    {\n",
            "  #     \"domain\": \"usageLimits\",\n",
            "  #     \"reason\": \"quotaExceeded\",\n",
            "  #     \"message\": \"The download quota for this file has been exceeded\",\n",
            "  #     \"locationType\": \"other\",\n",
            "  #     \"location\": \"quota.download\"\n",
            "  #    }\n",
            "  #   ],\n",
            "  #   \"code\": 403,\n",
            "  #   \"message\": \"The download quota for this file has been exceeded\"\n",
            "  #  }\n",
            "  # }\n",
            "  # Or\n",
            "  # 2021-03-23T15:58:56.231ZE [201:core_117860867942433405545] drive_v2_cloud_store_no_apiary.cc:3593:DumpToLog Response body 0x56f3ff6554b8: {\n",
            "  #  \"error\": {\n",
            "  #   \"errors\": [\n",
            "  #    {\n",
            "  #     \"domain\": \"usageLimits\",\n",
            "  #     \"reason\": \"quotaExceeded\",\n",
            "  #     \"message\": \"The download quota for this file has been exceeded\",\n",
            "  #     \"locationType\": \"other\",\n",
            "  #     \"loca...\n",
            "  # (with truncation)\n",
            "  # pylint: enable=line-too-long\n",
            "\n",
            "  def emit(r, m):\n",
            "    if r and m:\n",
            "      msg = f'{r} {m}'\n",
            "      if not any(x in msg for x in suppressed_errors):\n",
            "        print(f'{last_stamp} {msg}', flush=True)\n",
            "\n",
            "  if line.rstrip() == '{' or ('DumpToLog Response body' in line and\n",
            "                              line.rstrip().endswith('{')):\n",
            "    acc = '{'\n",
            "  elif acc:\n",
            "    acc += line\n",
            "  if acc and line.rstrip().endswith('...'):  # b/183502229\n",
            "    reason, message = '', ''\n",
            "    for l in acc.split('\\n'):\n",
            "      if '\"reason\":' in l:\n",
            "        reason = l.split(':', 2)[1].strip(' \\t\\n\\r,\"')\n",
            "      if '\"message\":' in l:\n",
            "        message = l.split(':', 2)[1].strip(' \\t\\n\\r,\"')\n",
            "    emit(reason, message)\n",
            "    acc = ''\n",
            "  if acc and line.rstrip() == '}':\n",
            "    try:\n",
            "      parsed = json.loads(acc)\n",
            "    except json.JSONDecodeError:\n",
            "      acc = ''\n",
            "      continue\n",
            "    try:\n",
            "      e = parsed['error']['errors'][0]\n",
            "    except:  # pylint: disable=bare-except\n",
            "      acc = ''\n",
            "      continue\n",
            "    emit(e['reason'], e['message'])\n",
            "    acc = ''\n",
            "\n"
          ]
        }
      ]
    },
    {
      "cell_type": "code",
      "source": [
        "import os\n",
        "\n",
        "print(os.getcwd())"
      ],
      "metadata": {
        "colab": {
          "base_uri": "https://localhost:8080/"
        },
        "id": "pyl9hC71M6oM",
        "outputId": "725cbb6a-80ca-42d4-e333-f15adc9fbce0"
      },
      "execution_count": 89,
      "outputs": [
        {
          "output_type": "stream",
          "name": "stdout",
          "text": [
            "/content\n"
          ]
        }
      ]
    },
    {
      "cell_type": "code",
      "source": [
        "file = open(\"sample_data/README.md\", 'r')\n",
        "content = file.read()\n",
        "\n",
        "print(content)\n",
        "\n",
        "file.close()"
      ],
      "metadata": {
        "colab": {
          "base_uri": "https://localhost:8080/"
        },
        "id": "uZHcla67N6-N",
        "outputId": "b9379723-5436-4dae-c875-c1ae74306158"
      },
      "execution_count": 90,
      "outputs": [
        {
          "output_type": "stream",
          "name": "stdout",
          "text": [
            "This directory includes a few sample datasets to get you started.\n",
            "\n",
            "*   `california_housing_data*.csv` is California housing data from the 1990 US\n",
            "    Census; more information is available at:\n",
            "    https://docs.google.com/document/d/e/2PACX-1vRhYtsvc5eOR2FWNCwaBiKL6suIOrxJig8LcSBbmCbyYsayia_DvPOOBlXZ4CAlQ5nlDD8kTaIDRwrN/pub\n",
            "\n",
            "*   `mnist_*.csv` is a small sample of the\n",
            "    [MNIST database](https://en.wikipedia.org/wiki/MNIST_database), which is\n",
            "    described at: http://yann.lecun.com/exdb/mnist/\n",
            "\n",
            "*   `anscombe.json` contains a copy of\n",
            "    [Anscombe's quartet](https://en.wikipedia.org/wiki/Anscombe%27s_quartet); it\n",
            "    was originally described in\n",
            "\n",
            "    Anscombe, F. J. (1973). 'Graphs in Statistical Analysis'. American\n",
            "    Statistician. 27 (1): 17-21. JSTOR 2682899.\n",
            "\n",
            "    and our copy was prepared by the\n",
            "    [vega_datasets library](https://github.com/altair-viz/vega_datasets/blob/4f67bdaad10f45e3549984e17e1b3088c731503d/vega_datasets/_data/anscombe.json).\n",
            "\n"
          ]
        }
      ]
    },
    {
      "cell_type": "code",
      "source": [
        "with open(\"sample_data/README.md\", 'r') as file:\n",
        "  print(file.read())"
      ],
      "metadata": {
        "colab": {
          "base_uri": "https://localhost:8080/"
        },
        "id": "_tW1GlZ3OIoi",
        "outputId": "54eed323-f8f4-4a28-e557-18a5b619acbb"
      },
      "execution_count": 91,
      "outputs": [
        {
          "output_type": "stream",
          "name": "stdout",
          "text": [
            "This directory includes a few sample datasets to get you started.\n",
            "\n",
            "*   `california_housing_data*.csv` is California housing data from the 1990 US\n",
            "    Census; more information is available at:\n",
            "    https://docs.google.com/document/d/e/2PACX-1vRhYtsvc5eOR2FWNCwaBiKL6suIOrxJig8LcSBbmCbyYsayia_DvPOOBlXZ4CAlQ5nlDD8kTaIDRwrN/pub\n",
            "\n",
            "*   `mnist_*.csv` is a small sample of the\n",
            "    [MNIST database](https://en.wikipedia.org/wiki/MNIST_database), which is\n",
            "    described at: http://yann.lecun.com/exdb/mnist/\n",
            "\n",
            "*   `anscombe.json` contains a copy of\n",
            "    [Anscombe's quartet](https://en.wikipedia.org/wiki/Anscombe%27s_quartet); it\n",
            "    was originally described in\n",
            "\n",
            "    Anscombe, F. J. (1973). 'Graphs in Statistical Analysis'. American\n",
            "    Statistician. 27 (1): 17-21. JSTOR 2682899.\n",
            "\n",
            "    and our copy was prepared by the\n",
            "    [vega_datasets library](https://github.com/altair-viz/vega_datasets/blob/4f67bdaad10f45e3549984e17e1b3088c731503d/vega_datasets/_data/anscombe.json).\n",
            "\n"
          ]
        }
      ]
    },
    {
      "cell_type": "code",
      "source": [
        "## Read a file line by line\n",
        "with open(\"sample_data/README.md\", 'r') as file:\n",
        "  print(file.readline())"
      ],
      "metadata": {
        "colab": {
          "base_uri": "https://localhost:8080/",
          "height": 199
        },
        "id": "ftbKuOQcObW6",
        "outputId": "f8c727bb-07ae-4b59-f93f-96f90dc06eb9"
      },
      "execution_count": 94,
      "outputs": [
        {
          "output_type": "error",
          "ename": "FileNotFoundError",
          "evalue": "[Errno 2] No such file or directory: 'sample_data/README123.md'",
          "traceback": [
            "\u001b[0;31m---------------------------------------------------------------------------\u001b[0m",
            "\u001b[0;31mFileNotFoundError\u001b[0m                         Traceback (most recent call last)",
            "\u001b[0;32m<ipython-input-94-a6fd5af07385>\u001b[0m in \u001b[0;36m<cell line: 0>\u001b[0;34m()\u001b[0m\n\u001b[1;32m      1\u001b[0m \u001b[0;31m## Read a file line by line\u001b[0m\u001b[0;34m\u001b[0m\u001b[0;34m\u001b[0m\u001b[0m\n\u001b[0;32m----> 2\u001b[0;31m \u001b[0;32mwith\u001b[0m \u001b[0mopen\u001b[0m\u001b[0;34m(\u001b[0m\u001b[0;34m\"sample_data/README123.md\"\u001b[0m\u001b[0;34m,\u001b[0m \u001b[0;34m'r'\u001b[0m\u001b[0;34m)\u001b[0m \u001b[0;32mas\u001b[0m \u001b[0mfile\u001b[0m\u001b[0;34m:\u001b[0m\u001b[0;34m\u001b[0m\u001b[0;34m\u001b[0m\u001b[0m\n\u001b[0m\u001b[1;32m      3\u001b[0m   \u001b[0mprint\u001b[0m\u001b[0;34m(\u001b[0m\u001b[0mfile\u001b[0m\u001b[0;34m.\u001b[0m\u001b[0mreadline\u001b[0m\u001b[0;34m(\u001b[0m\u001b[0;34m)\u001b[0m\u001b[0;34m)\u001b[0m\u001b[0;34m\u001b[0m\u001b[0;34m\u001b[0m\u001b[0m\n",
            "\u001b[0;31mFileNotFoundError\u001b[0m: [Errno 2] No such file or directory: 'sample_data/README123.md'"
          ]
        }
      ]
    },
    {
      "cell_type": "markdown",
      "source": [
        "## Learn about escape characters in python"
      ],
      "metadata": {
        "id": "92dh8liUPmwx"
      }
    },
    {
      "cell_type": "code",
      "source": [
        "## Writing a file(Overwriting)\n",
        "\n",
        "with open('example.txt','w') as file:\n",
        "    file.write('Hello World!\\n')\n",
        "    file.write('this is a new line.')"
      ],
      "metadata": {
        "id": "3TmhZ3aBOnYg"
      },
      "execution_count": 97,
      "outputs": []
    },
    {
      "cell_type": "code",
      "source": [
        "## Write a file(without Overwriting)\n",
        "with open('example.txt','a') as file:\n",
        "    file.write(\"\\nAppend operation taking place!\\n\")"
      ],
      "metadata": {
        "id": "epcm-kqmPIzs"
      },
      "execution_count": 98,
      "outputs": []
    },
    {
      "cell_type": "code",
      "source": [
        "### Binary Files\n",
        "\n",
        "# Writing to a binary file\n",
        "data = b'\\x00\\x01\\x02\\x03\\x04'\n",
        "with open('example.bin', 'wb') as file:\n",
        "    file.write(data)"
      ],
      "metadata": {
        "id": "t8PuqTxCPcFD"
      },
      "execution_count": 99,
      "outputs": []
    },
    {
      "cell_type": "code",
      "source": [
        "# Reading a binary file\n",
        "with open('example.bin', 'rb') as file:\n",
        "    content = file.read()\n",
        "    print(content)"
      ],
      "metadata": {
        "colab": {
          "base_uri": "https://localhost:8080/"
        },
        "id": "2vNelM24QFSQ",
        "outputId": "fdf2ed60-b071-4637-ccce-b2d7826fc6db"
      },
      "execution_count": 100,
      "outputs": [
        {
          "output_type": "stream",
          "name": "stdout",
          "text": [
            "b'\\x00\\x01\\x02\\x03\\x04'\n"
          ]
        }
      ]
    },
    {
      "cell_type": "code",
      "source": [
        "### Read the content froma  source text fiile and write to a destination text file\n",
        "# Copying a text file\n",
        "with open('example.txt', 'r') as source_file:\n",
        "    content = source_file.read()\n",
        "\n",
        "with open('destination.txt', 'w') as destination_file:\n",
        "    destination_file.write(content)\n"
      ],
      "metadata": {
        "id": "faX7cDREQH5-"
      },
      "execution_count": 101,
      "outputs": []
    },
    {
      "cell_type": "code",
      "source": [
        "with open('example.txt', 'r') as file:\n",
        "        lines = file.readlines()\n",
        "\n",
        "print(type(lines))\n",
        "len(lines)\n",
        "list((len(line.split()) for line in lines))"
      ],
      "metadata": {
        "colab": {
          "base_uri": "https://localhost:8080/"
        },
        "id": "aOf7B6NBQg_o",
        "outputId": "e5ab798a-dbe9-4e92-ccc1-b2cec09a7c0a"
      },
      "execution_count": 105,
      "outputs": [
        {
          "output_type": "stream",
          "name": "stdout",
          "text": [
            "<class 'list'>\n"
          ]
        },
        {
          "output_type": "execute_result",
          "data": {
            "text/plain": [
              "[2, 5, 4]"
            ]
          },
          "metadata": {},
          "execution_count": 105
        }
      ]
    },
    {
      "cell_type": "code",
      "source": [
        "#Read a text file and count the number of lines, words, and characters.\n",
        "# Counting lines, words, and characters in a text file\n",
        "def count_text_file(file_path):\n",
        "    with open(file_path, 'r') as file:\n",
        "        lines = file.readlines()\n",
        "        line_count = len(lines)\n",
        "        word_count = sum(len(line.split()) for line in lines)\n",
        "        char_count = sum(len(line) for line in lines)\n",
        "    return line_count, word_count, char_count\n",
        "\n",
        "file_path = 'example.txt'\n",
        "lines, words, characters = count_text_file(file_path)\n",
        "print(f'Lines: {lines}, Words: {words}, Characters: {characters}')\n"
      ],
      "metadata": {
        "colab": {
          "base_uri": "https://localhost:8080/"
        },
        "id": "DPtgqMZCQO3-",
        "outputId": "3884b707-ca18-4f19-8c6b-87cef25e4c63"
      },
      "execution_count": 106,
      "outputs": [
        {
          "output_type": "stream",
          "name": "stdout",
          "text": [
            "Lines: 3, Words: 11, Characters: 64\n"
          ]
        }
      ]
    },
    {
      "cell_type": "code",
      "source": [],
      "metadata": {
        "id": "GXmrRThlREJo"
      },
      "execution_count": null,
      "outputs": []
    }
  ]
}