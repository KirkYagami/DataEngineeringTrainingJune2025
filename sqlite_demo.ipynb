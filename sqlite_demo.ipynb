{
 "cells": [
  {
   "cell_type": "markdown",
   "id": "b9d49305",
   "metadata": {},
   "source": [
    "#### SQL And SQLite\n",
    "SQL (Structured Query Language) is a standard language for managing and manipulating relational databases. SQLite is a self-contained, serverless, and zero-configuration database engine that is widely used for embedded database systems. In this lesson, we will cover the basics of SQL and SQLite, including creating databases, tables, and performing various SQL operations."
   ]
  },
  {
   "cell_type": "code",
   "execution_count": 1,
   "id": "7a32d41c",
   "metadata": {},
   "outputs": [],
   "source": [
    "import sqlite3"
   ]
  },
  {
   "cell_type": "code",
   "execution_count": 2,
   "id": "55fd5e27",
   "metadata": {},
   "outputs": [],
   "source": [
    "connection = sqlite3.connect('test_db.db')"
   ]
  },
  {
   "cell_type": "code",
   "execution_count": 3,
   "id": "6edcc3d6",
   "metadata": {},
   "outputs": [
    {
     "data": {
      "text/plain": [
       "<sqlite3.Connection at 0x2144e2d1f30>"
      ]
     },
     "execution_count": 3,
     "metadata": {},
     "output_type": "execute_result"
    }
   ],
   "source": [
    "connection"
   ]
  },
  {
   "cell_type": "code",
   "execution_count": 4,
   "id": "b7a8f249",
   "metadata": {},
   "outputs": [],
   "source": [
    "cursor=connection.cursor()"
   ]
  },
  {
   "cell_type": "code",
   "execution_count": 5,
   "id": "0627ad13",
   "metadata": {},
   "outputs": [],
   "source": [
    "cursor.execute('''\n",
    "Create Table If Not Exists employees(\n",
    "    id Integer Primary Key,\n",
    "    name Text Not Null,\n",
    "    age Integer,\n",
    "    department text\n",
    "    )\n",
    "''')\n",
    "\n",
    "connection.commit()"
   ]
  },
  {
   "cell_type": "code",
   "execution_count": 6,
   "id": "058aa7fd",
   "metadata": {},
   "outputs": [
    {
     "data": {
      "text/plain": [
       "<sqlite3.Cursor at 0x2144e37b140>"
      ]
     },
     "execution_count": 6,
     "metadata": {},
     "output_type": "execute_result"
    }
   ],
   "source": [
    "cursor.execute('''\n",
    "Insert Into employees(name,age,department)\n",
    "               values('Nikhil',24,'Data Scientist')\n",
    "\n",
    "''')"
   ]
  },
  {
   "cell_type": "code",
   "execution_count": 7,
   "id": "2e78fb6a",
   "metadata": {},
   "outputs": [
    {
     "data": {
      "text/plain": [
       "<sqlite3.Cursor at 0x2144e37b140>"
      ]
     },
     "execution_count": 7,
     "metadata": {},
     "output_type": "execute_result"
    }
   ],
   "source": [
    "cursor.execute('''\n",
    "INSERT INTO employees (name, age, department)\n",
    "VALUES ('Bob', 37, 'Engineering')\n",
    "''')\n",
    "\n",
    "cursor.execute('''\n",
    "INSERT INTO employees (name, age, department)\n",
    "VALUES ('Charlie', 25, 'Finance')\n",
    "''')"
   ]
  },
  {
   "cell_type": "code",
   "execution_count": 8,
   "id": "122ab7da",
   "metadata": {},
   "outputs": [],
   "source": [
    "connection.commit()"
   ]
  },
  {
   "cell_type": "code",
   "execution_count": 9,
   "id": "35819dbd",
   "metadata": {},
   "outputs": [
    {
     "data": {
      "text/plain": [
       "<sqlite3.Cursor at 0x2144e37b140>"
      ]
     },
     "execution_count": 9,
     "metadata": {},
     "output_type": "execute_result"
    }
   ],
   "source": [
    "cursor.execute('Select * from employees')\n",
    "\n"
   ]
  },
  {
   "cell_type": "code",
   "execution_count": 10,
   "id": "e70d8294",
   "metadata": {},
   "outputs": [],
   "source": [
    "rows = cursor.fetchall()"
   ]
  },
  {
   "cell_type": "code",
   "execution_count": 12,
   "id": "959a499d",
   "metadata": {},
   "outputs": [
    {
     "name": "stdout",
     "output_type": "stream",
     "text": [
      "(1, 'Nikhil', 24, 'Data Scientist')\n",
      "(2, 'Bob', 37, 'Engineering')\n",
      "(3, 'Charlie', 25, 'Finance')\n"
     ]
    }
   ],
   "source": [
    "for row in rows:\n",
    "    print(row)"
   ]
  },
  {
   "cell_type": "code",
   "execution_count": 14,
   "id": "d1cd41ca",
   "metadata": {},
   "outputs": [],
   "source": [
    "cursor.execute('''\n",
    "UPDATE employees\n",
    "Set age=24.8\n",
    "where name=\"Nikhil\"\n",
    "''')\n",
    "connection.commit()"
   ]
  },
  {
   "cell_type": "code",
   "execution_count": 15,
   "id": "879ea10e",
   "metadata": {},
   "outputs": [
    {
     "name": "stdout",
     "output_type": "stream",
     "text": [
      "(1, 'Nikhil', 24.8, 'Data Scientist')\n",
      "(2, 'Bob', 37, 'Engineering')\n",
      "(3, 'Charlie', 25, 'Finance')\n"
     ]
    }
   ],
   "source": [
    "cursor.execute('Select * from employees')\n",
    "rows = cursor.fetchall()\n",
    "\n",
    "for row in rows:\n",
    "    print(row)"
   ]
  },
  {
   "cell_type": "code",
   "execution_count": 16,
   "id": "8c7d77e9",
   "metadata": {},
   "outputs": [],
   "source": [
    "connection = sqlite3.connect('sales_data.db')\n",
    "cursor = connection.cursor()\n",
    "\n",
    "# Create a table for sales data\n",
    "cursor.execute('''\n",
    "CREATE TABLE IF NOT EXISTS sales (\n",
    "    id INTEGER PRIMARY KEY,\n",
    "    date TEXT NOT NULL,\n",
    "    product TEXT NOT NULL,\n",
    "    sales INTEGER,\n",
    "    region TEXT\n",
    ")\n",
    "''')\n",
    "\n",
    "# Insert data into the sales table\n",
    "sales_data = [\n",
    "    ('2023-01-01', 'Product1', 100, 'North'),\n",
    "    ('2023-01-02', 'Product2', 200, 'South'),\n",
    "    ('2023-01-03', 'Product1', 150, 'East'),\n",
    "    ('2023-01-04', 'Product3', 250, 'West'),\n",
    "    ('2023-01-05', 'Product2', 300, 'North')\n",
    "]\n",
    "\n",
    "cursor.executemany('''\n",
    "Insert into sales(date,product,sales,region)\n",
    "                   values(?,?,?,?)\n",
    "''',sales_data)\n",
    "\n",
    "connection.commit()"
   ]
  },
  {
   "cell_type": "code",
   "execution_count": 17,
   "id": "a88b7de2",
   "metadata": {},
   "outputs": [],
   "source": [
    "!pip -q install mysql-connector-python"
   ]
  },
  {
   "cell_type": "code",
   "execution_count": 18,
   "id": "704c99a5",
   "metadata": {},
   "outputs": [],
   "source": [
    "import mysql.connector"
   ]
  },
  {
   "cell_type": "code",
   "execution_count": 21,
   "id": "e145a868",
   "metadata": {},
   "outputs": [
    {
     "name": "stdout",
     "output_type": "stream",
     "text": [
      "<mysql.connector.connection_cext.CMySQLConnection object at 0x0000021450870A50>\n"
     ]
    }
   ],
   "source": [
    "from getpass import getpass\n",
    "from mysql.connector import connect, Error\n",
    "\n",
    "try:\n",
    "    with connect(\n",
    "        host=\"localhost\",\n",
    "        user=input(\"Enter username: \"),\n",
    "        password=getpass(\"Enter password: \"),\n",
    "    ) as connection:\n",
    "        print(connection)\n",
    "except Error as e:\n",
    "    print(e)"
   ]
  },
  {
   "cell_type": "code",
   "execution_count": 23,
   "id": "95436563",
   "metadata": {},
   "outputs": [],
   "source": [
    "from getpass import getpass\n",
    "from mysql.connector import connect, Error\n",
    "\n",
    "try:\n",
    "    with connect(\n",
    "        host=\"localhost\",\n",
    "        user=input(\"Enter username: \"),\n",
    "        password=getpass(\"Enter password: \"),\n",
    "    ) as connection:\n",
    "        create_db_query = \"CREATE DATABASE online_movie_rating\"\n",
    "        with connection.cursor() as cursor:\n",
    "            cursor.execute(create_db_query)\n",
    "except Error as e:\n",
    "    print(e)"
   ]
  },
  {
   "cell_type": "code",
   "execution_count": null,
   "id": "cfffc785",
   "metadata": {},
   "outputs": [],
   "source": []
  }
 ],
 "metadata": {
  "kernelspec": {
   "display_name": "Python 3",
   "language": "python",
   "name": "python3"
  },
  "language_info": {
   "codemirror_mode": {
    "name": "ipython",
    "version": 3
   },
   "file_extension": ".py",
   "mimetype": "text/x-python",
   "name": "python",
   "nbconvert_exporter": "python",
   "pygments_lexer": "ipython3",
   "version": "3.11.11"
  }
 },
 "nbformat": 4,
 "nbformat_minor": 5
}
